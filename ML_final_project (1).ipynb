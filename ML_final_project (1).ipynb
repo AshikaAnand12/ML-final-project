{
  "nbformat": 4,
  "nbformat_minor": 0,
  "metadata": {
    "colab": {
      "name": "ML final project.ipynb",
      "provenance": [],
      "machine_shape": "hm",
      "collapsed_sections": [
        "QJerExXcaQ-o",
        "yif718H3QN-U",
        "TyGNVNwzeLlD",
        "WA5I3BP6QUVI",
        "7aUvvzcuzaRq"
      ]
    },
    "kernelspec": {
      "name": "python3",
      "display_name": "Python 3"
    },
    "language_info": {
      "name": "python"
    },
    "accelerator": "GPU"
  },
  "cells": [
    {
      "cell_type": "markdown",
      "source": [
        "> ### **TEAM CONQUERORS**\n",
        "\n",
        "---\n",
        "**ASHIKA ANAND BABU**\n",
        "\n",
        "\n",
        "1.   SJSU ID: 015966678\n",
        "2.   MAIL ID: ashika.anandbabu@sjsu.edu\n",
        "\n",
        "**RAMYA MAHESH**\n",
        "\n",
        "\n",
        "1.   SJSU ID: 015968849\n",
        "2.   MAIL ID: ramya.mahesh@sjsu.edu\n",
        "\n",
        "**ANUSHA GANGASANI**\n",
        "\n",
        "\n",
        "1.   SJSU ID: 015513160\n",
        "2.   MAIL ID: anusha.gangasani@sjsu.edu\n",
        "\n",
        "Setup Steps:\n",
        "1. Enter input of a company name in the input section\n",
        "2. Check output (output.csv) in the files section of the colab"
      ],
      "metadata": {
        "id": "tD3O4Xkv3b0W"
      }
    },
    {
      "cell_type": "markdown",
      "source": [
        "# Environment Setup"
      ],
      "metadata": {
        "id": "QJerExXcaQ-o"
      }
    },
    {
      "cell_type": "code",
      "source": [
        "from google.colab import drive\n",
        "drive.mount('/content/drive')"
      ],
      "metadata": {
        "colab": {
          "base_uri": "https://localhost:8080/"
        },
        "id": "EVHTULFhgkRh",
        "outputId": "699c2ea3-957c-4920-f3bb-8a1e4255d5a3"
      },
      "execution_count": null,
      "outputs": [
        {
          "output_type": "stream",
          "name": "stdout",
          "text": [
            "Drive already mounted at /content/drive; to attempt to forcibly remount, call drive.mount(\"/content/drive\", force_remount=True).\n"
          ]
        }
      ]
    },
    {
      "cell_type": "code",
      "source": [
        "!pip install pygooglenews"
      ],
      "metadata": {
        "colab": {
          "base_uri": "https://localhost:8080/"
        },
        "id": "7bD-2aM0aVve",
        "outputId": "c4120c4c-c56e-4c3e-f719-4205314da00c"
      },
      "execution_count": null,
      "outputs": [
        {
          "output_type": "stream",
          "name": "stdout",
          "text": [
            "Looking in indexes: https://pypi.org/simple, https://us-python.pkg.dev/colab-wheels/public/simple/\n",
            "Requirement already satisfied: pygooglenews in /usr/local/lib/python3.7/dist-packages (0.1.2)\n",
            "Requirement already satisfied: feedparser<6.0.0,>=5.2.1 in /usr/local/lib/python3.7/dist-packages (from pygooglenews) (5.2.1)\n",
            "Requirement already satisfied: requests<3.0.0,>=2.24.0 in /usr/local/lib/python3.7/dist-packages (from pygooglenews) (2.27.1)\n",
            "Requirement already satisfied: dateparser<0.8.0,>=0.7.6 in /usr/local/lib/python3.7/dist-packages (from pygooglenews) (0.7.6)\n",
            "Requirement already satisfied: beautifulsoup4<5.0.0,>=4.9.1 in /usr/local/lib/python3.7/dist-packages (from pygooglenews) (4.11.1)\n",
            "Requirement already satisfied: soupsieve>1.2 in /usr/local/lib/python3.7/dist-packages (from beautifulsoup4<5.0.0,>=4.9.1->pygooglenews) (2.3.2.post1)\n",
            "Requirement already satisfied: python-dateutil in /usr/local/lib/python3.7/dist-packages (from dateparser<0.8.0,>=0.7.6->pygooglenews) (2.8.2)\n",
            "Requirement already satisfied: regex!=2019.02.19 in /usr/local/lib/python3.7/dist-packages (from dateparser<0.8.0,>=0.7.6->pygooglenews) (2019.12.20)\n",
            "Requirement already satisfied: tzlocal in /usr/local/lib/python3.7/dist-packages (from dateparser<0.8.0,>=0.7.6->pygooglenews) (1.5.1)\n",
            "Requirement already satisfied: pytz in /usr/local/lib/python3.7/dist-packages (from dateparser<0.8.0,>=0.7.6->pygooglenews) (2022.1)\n",
            "Requirement already satisfied: certifi>=2017.4.17 in /usr/local/lib/python3.7/dist-packages (from requests<3.0.0,>=2.24.0->pygooglenews) (2022.5.18.1)\n",
            "Requirement already satisfied: idna<4,>=2.5 in /usr/local/lib/python3.7/dist-packages (from requests<3.0.0,>=2.24.0->pygooglenews) (2.10)\n",
            "Requirement already satisfied: urllib3<1.27,>=1.21.1 in /usr/local/lib/python3.7/dist-packages (from requests<3.0.0,>=2.24.0->pygooglenews) (1.26.9)\n",
            "Requirement already satisfied: charset-normalizer~=2.0.0 in /usr/local/lib/python3.7/dist-packages (from requests<3.0.0,>=2.24.0->pygooglenews) (2.0.12)\n",
            "Requirement already satisfied: six>=1.5 in /usr/local/lib/python3.7/dist-packages (from python-dateutil->dateparser<0.8.0,>=0.7.6->pygooglenews) (1.15.0)\n"
          ]
        }
      ]
    },
    {
      "cell_type": "code",
      "source": [
        "pip install transformers"
      ],
      "metadata": {
        "colab": {
          "base_uri": "https://localhost:8080/"
        },
        "id": "EenVCjMFSNyW",
        "outputId": "7351016e-2b4a-4647-e58c-aa5269faf512"
      },
      "execution_count": null,
      "outputs": [
        {
          "output_type": "stream",
          "name": "stdout",
          "text": [
            "Looking in indexes: https://pypi.org/simple, https://us-python.pkg.dev/colab-wheels/public/simple/\n",
            "Requirement already satisfied: transformers in /usr/local/lib/python3.7/dist-packages (4.19.2)\n",
            "Requirement already satisfied: pyyaml>=5.1 in /usr/local/lib/python3.7/dist-packages (from transformers) (6.0)\n",
            "Requirement already satisfied: regex!=2019.12.17 in /usr/local/lib/python3.7/dist-packages (from transformers) (2019.12.20)\n",
            "Requirement already satisfied: tqdm>=4.27 in /usr/local/lib/python3.7/dist-packages (from transformers) (4.64.0)\n",
            "Requirement already satisfied: packaging>=20.0 in /usr/local/lib/python3.7/dist-packages (from transformers) (21.3)\n",
            "Requirement already satisfied: numpy>=1.17 in /usr/local/lib/python3.7/dist-packages (from transformers) (1.21.6)\n",
            "Requirement already satisfied: tokenizers!=0.11.3,<0.13,>=0.11.1 in /usr/local/lib/python3.7/dist-packages (from transformers) (0.12.1)\n",
            "Requirement already satisfied: filelock in /usr/local/lib/python3.7/dist-packages (from transformers) (3.7.0)\n",
            "Requirement already satisfied: importlib-metadata in /usr/local/lib/python3.7/dist-packages (from transformers) (4.11.3)\n",
            "Requirement already satisfied: requests in /usr/local/lib/python3.7/dist-packages (from transformers) (2.27.1)\n",
            "Requirement already satisfied: huggingface-hub<1.0,>=0.1.0 in /usr/local/lib/python3.7/dist-packages (from transformers) (0.7.0)\n",
            "Requirement already satisfied: typing-extensions>=3.7.4.3 in /usr/local/lib/python3.7/dist-packages (from huggingface-hub<1.0,>=0.1.0->transformers) (4.2.0)\n",
            "Requirement already satisfied: pyparsing!=3.0.5,>=2.0.2 in /usr/local/lib/python3.7/dist-packages (from packaging>=20.0->transformers) (3.0.9)\n",
            "Requirement already satisfied: zipp>=0.5 in /usr/local/lib/python3.7/dist-packages (from importlib-metadata->transformers) (3.8.0)\n",
            "Requirement already satisfied: urllib3<1.27,>=1.21.1 in /usr/local/lib/python3.7/dist-packages (from requests->transformers) (1.26.9)\n",
            "Requirement already satisfied: idna<4,>=2.5 in /usr/local/lib/python3.7/dist-packages (from requests->transformers) (2.10)\n",
            "Requirement already satisfied: charset-normalizer~=2.0.0 in /usr/local/lib/python3.7/dist-packages (from requests->transformers) (2.0.12)\n",
            "Requirement already satisfied: certifi>=2017.4.17 in /usr/local/lib/python3.7/dist-packages (from requests->transformers) (2022.5.18.1)\n"
          ]
        }
      ]
    },
    {
      "cell_type": "code",
      "source": [
        "pip install fast_ml==3.68"
      ],
      "metadata": {
        "colab": {
          "base_uri": "https://localhost:8080/"
        },
        "id": "377r2hHuSVLh",
        "outputId": "0aa1ca01-7e99-4456-eb51-5f25e3675ea9"
      },
      "execution_count": null,
      "outputs": [
        {
          "output_type": "stream",
          "name": "stdout",
          "text": [
            "Looking in indexes: https://pypi.org/simple, https://us-python.pkg.dev/colab-wheels/public/simple/\n",
            "Requirement already satisfied: fast_ml==3.68 in /usr/local/lib/python3.7/dist-packages (3.68)\n"
          ]
        }
      ]
    },
    {
      "cell_type": "code",
      "source": [
        "pip install datasets"
      ],
      "metadata": {
        "colab": {
          "base_uri": "https://localhost:8080/"
        },
        "id": "2909VA17SWTJ",
        "outputId": "51f890c5-57af-43ac-e2d9-e60506f1405b"
      },
      "execution_count": null,
      "outputs": [
        {
          "output_type": "stream",
          "name": "stdout",
          "text": [
            "Looking in indexes: https://pypi.org/simple, https://us-python.pkg.dev/colab-wheels/public/simple/\n",
            "Requirement already satisfied: datasets in /usr/local/lib/python3.7/dist-packages (2.2.2)\n",
            "Requirement already satisfied: tqdm>=4.62.1 in /usr/local/lib/python3.7/dist-packages (from datasets) (4.64.0)\n",
            "Requirement already satisfied: fsspec[http]>=2021.05.0 in /usr/local/lib/python3.7/dist-packages (from datasets) (2022.5.0)\n",
            "Requirement already satisfied: responses<0.19 in /usr/local/lib/python3.7/dist-packages (from datasets) (0.18.0)\n",
            "Requirement already satisfied: importlib-metadata in /usr/local/lib/python3.7/dist-packages (from datasets) (4.11.3)\n",
            "Requirement already satisfied: xxhash in /usr/local/lib/python3.7/dist-packages (from datasets) (3.0.0)\n",
            "Requirement already satisfied: packaging in /usr/local/lib/python3.7/dist-packages (from datasets) (21.3)\n",
            "Requirement already satisfied: huggingface-hub<1.0.0,>=0.1.0 in /usr/local/lib/python3.7/dist-packages (from datasets) (0.7.0)\n",
            "Requirement already satisfied: dill<0.3.5 in /usr/local/lib/python3.7/dist-packages (from datasets) (0.3.4)\n",
            "Requirement already satisfied: pandas in /usr/local/lib/python3.7/dist-packages (from datasets) (1.3.5)\n",
            "Requirement already satisfied: aiohttp in /usr/local/lib/python3.7/dist-packages (from datasets) (3.8.1)\n",
            "Requirement already satisfied: requests>=2.19.0 in /usr/local/lib/python3.7/dist-packages (from datasets) (2.27.1)\n",
            "Requirement already satisfied: pyarrow>=6.0.0 in /usr/local/lib/python3.7/dist-packages (from datasets) (6.0.1)\n",
            "Requirement already satisfied: numpy>=1.17 in /usr/local/lib/python3.7/dist-packages (from datasets) (1.21.6)\n",
            "Requirement already satisfied: multiprocess in /usr/local/lib/python3.7/dist-packages (from datasets) (0.70.12.2)\n",
            "Requirement already satisfied: pyyaml>=5.1 in /usr/local/lib/python3.7/dist-packages (from huggingface-hub<1.0.0,>=0.1.0->datasets) (6.0)\n",
            "Requirement already satisfied: typing-extensions>=3.7.4.3 in /usr/local/lib/python3.7/dist-packages (from huggingface-hub<1.0.0,>=0.1.0->datasets) (4.2.0)\n",
            "Requirement already satisfied: filelock in /usr/local/lib/python3.7/dist-packages (from huggingface-hub<1.0.0,>=0.1.0->datasets) (3.7.0)\n",
            "Requirement already satisfied: pyparsing!=3.0.5,>=2.0.2 in /usr/local/lib/python3.7/dist-packages (from packaging->datasets) (3.0.9)\n",
            "Requirement already satisfied: idna<4,>=2.5 in /usr/local/lib/python3.7/dist-packages (from requests>=2.19.0->datasets) (2.10)\n",
            "Requirement already satisfied: urllib3<1.27,>=1.21.1 in /usr/local/lib/python3.7/dist-packages (from requests>=2.19.0->datasets) (1.26.9)\n",
            "Requirement already satisfied: certifi>=2017.4.17 in /usr/local/lib/python3.7/dist-packages (from requests>=2.19.0->datasets) (2022.5.18.1)\n",
            "Requirement already satisfied: charset-normalizer~=2.0.0 in /usr/local/lib/python3.7/dist-packages (from requests>=2.19.0->datasets) (2.0.12)\n",
            "Requirement already satisfied: async-timeout<5.0,>=4.0.0a3 in /usr/local/lib/python3.7/dist-packages (from aiohttp->datasets) (4.0.2)\n",
            "Requirement already satisfied: yarl<2.0,>=1.0 in /usr/local/lib/python3.7/dist-packages (from aiohttp->datasets) (1.7.2)\n",
            "Requirement already satisfied: aiosignal>=1.1.2 in /usr/local/lib/python3.7/dist-packages (from aiohttp->datasets) (1.2.0)\n",
            "Requirement already satisfied: frozenlist>=1.1.1 in /usr/local/lib/python3.7/dist-packages (from aiohttp->datasets) (1.3.0)\n",
            "Requirement already satisfied: asynctest==0.13.0 in /usr/local/lib/python3.7/dist-packages (from aiohttp->datasets) (0.13.0)\n",
            "Requirement already satisfied: multidict<7.0,>=4.5 in /usr/local/lib/python3.7/dist-packages (from aiohttp->datasets) (6.0.2)\n",
            "Requirement already satisfied: attrs>=17.3.0 in /usr/local/lib/python3.7/dist-packages (from aiohttp->datasets) (21.4.0)\n",
            "Requirement already satisfied: zipp>=0.5 in /usr/local/lib/python3.7/dist-packages (from importlib-metadata->datasets) (3.8.0)\n",
            "Requirement already satisfied: python-dateutil>=2.7.3 in /usr/local/lib/python3.7/dist-packages (from pandas->datasets) (2.8.2)\n",
            "Requirement already satisfied: pytz>=2017.3 in /usr/local/lib/python3.7/dist-packages (from pandas->datasets) (2022.1)\n",
            "Requirement already satisfied: six>=1.5 in /usr/local/lib/python3.7/dist-packages (from python-dateutil>=2.7.3->pandas->datasets) (1.15.0)\n"
          ]
        }
      ]
    },
    {
      "cell_type": "code",
      "source": [
        "!pip install neattext\n",
        "import neattext as ntx"
      ],
      "metadata": {
        "colab": {
          "base_uri": "https://localhost:8080/"
        },
        "id": "oUX-0U7rplhH",
        "outputId": "f2245caf-6f4f-4ff3-8f43-39a40e464512"
      },
      "execution_count": null,
      "outputs": [
        {
          "output_type": "stream",
          "name": "stdout",
          "text": [
            "Looking in indexes: https://pypi.org/simple, https://us-python.pkg.dev/colab-wheels/public/simple/\n",
            "Requirement already satisfied: neattext in /usr/local/lib/python3.7/dist-packages (0.1.3)\n"
          ]
        }
      ]
    },
    {
      "cell_type": "code",
      "source": [
        "!pip install faker"
      ],
      "metadata": {
        "colab": {
          "base_uri": "https://localhost:8080/"
        },
        "id": "KB7E3h03Am6d",
        "outputId": "e2ade5e7-3cf8-463f-e8aa-2836533dc4bc"
      },
      "execution_count": null,
      "outputs": [
        {
          "output_type": "stream",
          "name": "stdout",
          "text": [
            "Looking in indexes: https://pypi.org/simple, https://us-python.pkg.dev/colab-wheels/public/simple/\n",
            "Requirement already satisfied: faker in /usr/local/lib/python3.7/dist-packages (13.12.0)\n",
            "Requirement already satisfied: typing-extensions>=3.10.0.2 in /usr/local/lib/python3.7/dist-packages (from faker) (4.2.0)\n",
            "Requirement already satisfied: python-dateutil>=2.4 in /usr/local/lib/python3.7/dist-packages (from faker) (2.8.2)\n",
            "Requirement already satisfied: six>=1.5 in /usr/local/lib/python3.7/dist-packages (from python-dateutil>=2.4->faker) (1.15.0)\n"
          ]
        }
      ]
    },
    {
      "cell_type": "code",
      "source": [
        "!apt install libgraphviz-dev\n",
        "!pip install pygraphviz"
      ],
      "metadata": {
        "colab": {
          "base_uri": "https://localhost:8080/"
        },
        "id": "b3jjZikbE1xp",
        "outputId": "764feaa0-6d71-4e8a-a811-95eb952230aa"
      },
      "execution_count": null,
      "outputs": [
        {
          "output_type": "stream",
          "name": "stdout",
          "text": [
            "Reading package lists... Done\n",
            "Building dependency tree       \n",
            "Reading state information... Done\n",
            "libgraphviz-dev is already the newest version (2.40.1-2).\n",
            "The following package was automatically installed and is no longer required:\n",
            "  libnvidia-common-460\n",
            "Use 'apt autoremove' to remove it.\n",
            "0 upgraded, 0 newly installed, 0 to remove and 42 not upgraded.\n",
            "Looking in indexes: https://pypi.org/simple, https://us-python.pkg.dev/colab-wheels/public/simple/\n",
            "Requirement already satisfied: pygraphviz in /usr/local/lib/python3.7/dist-packages (1.7)\n"
          ]
        }
      ]
    },
    {
      "cell_type": "code",
      "source": [
        "import pandas as pd\n",
        "from pygooglenews import GoogleNews\n",
        "import re\n",
        "import nltk\n",
        "import json\n",
        "nltk.download('wordnet')\n",
        "nltk.download('punkt')\n",
        "nltk.download('vader_lexicon')\n",
        "from nltk.stem import WordNetLemmatizer\n",
        "from nltk.probability import FreqDist\n",
        "from wordcloud import WordCloud, STOPWORDS\n",
        "from nltk.util import ngrams\n",
        "from nltk.tokenize import word_tokenize\n",
        "from nltk.corpus import subjectivity\n",
        "%matplotlib inline "
      ],
      "metadata": {
        "id": "4kvSA5M7ogmc",
        "colab": {
          "base_uri": "https://localhost:8080/"
        },
        "outputId": "cd5ff3b6-f82e-4036-b4c4-475c786e851a"
      },
      "execution_count": null,
      "outputs": [
        {
          "output_type": "stream",
          "name": "stdout",
          "text": [
            "[nltk_data] Downloading package wordnet to /root/nltk_data...\n",
            "[nltk_data]   Package wordnet is already up-to-date!\n",
            "[nltk_data] Downloading package punkt to /root/nltk_data...\n",
            "[nltk_data]   Package punkt is already up-to-date!\n",
            "[nltk_data] Downloading package vader_lexicon to /root/nltk_data...\n",
            "[nltk_data]   Package vader_lexicon is already up-to-date!\n"
          ]
        }
      ]
    },
    {
      "cell_type": "code",
      "source": [
        "import networkx as nx\n",
        "import matplotlib.pyplot as plt\n",
        "from faker import Faker\n",
        "faker = Faker()\n",
        "%matplotlib inline"
      ],
      "metadata": {
        "id": "T-qmpnHF38oN"
      },
      "execution_count": null,
      "outputs": []
    },
    {
      "cell_type": "markdown",
      "source": [
        "# Data Preparation"
      ],
      "metadata": {
        "id": "yif718H3QN-U"
      }
    },
    {
      "cell_type": "code",
      "source": [
        "df_crunchbase = pd.read_csv('/content/drive/MyDrive/ML-Spring-2022/Conquerors/CrunchBase/dataset.csv')\n"
      ],
      "metadata": {
        "id": "BtSj5VynnZjD"
      },
      "execution_count": null,
      "outputs": []
    },
    {
      "cell_type": "code",
      "source": [
        "df_crunchbase.rename(columns={\"Organization Name\": \"COMPANY\", \"Organization Name URL\":\"URL\",\"Industries\":\"INDUSTRIES\",\"Headquarters Location\":\"HEADQUARTERS\",\"Description\":\"DESCRIPTION\",\"CB Rank (Company)\":\"CB_RANK\",\"Estimated Revenue Range\": \"REVENUE\", \"Total Funding Amount\":\"FUNDING\",\"Total Funding Amount Currency\":\"IN_CURRENCY\",\"Total Funding Amount Currency (in USD)\":\"FUNDING_IN_USD\",\"IPO Status\":\"IPO_STATUS\",\"Number of Acquisitions\":\"ACQUISITIONS\", \"Founders\":\"FOUNDERS\"}, inplace=True)\n",
        "df_crunchbase.head(10)"
      ],
      "metadata": {
        "colab": {
          "base_uri": "https://localhost:8080/",
          "height": 1000
        },
        "id": "skkW7nuTdAnG",
        "outputId": "0ea48a01-2872-4210-c3e9-990746c1e840"
      },
      "execution_count": null,
      "outputs": [
        {
          "output_type": "execute_result",
          "data": {
            "text/plain": [
              "     COMPANY                                                URL  \\\n",
              "0      Intel      https://www.crunchbase.com/organization/intel   \n",
              "1     Apollo  https://www.crunchbase.com/organization/apollo...   \n",
              "2     NVIDIA     https://www.crunchbase.com/organization/nvidia   \n",
              "3   Coinbase   https://www.crunchbase.com/organization/coinbase   \n",
              "4     WeWork     https://www.crunchbase.com/organization/wework   \n",
              "5  Liquidity  https://www.crunchbase.com/organization/liquid...   \n",
              "6      Nykaa      https://www.crunchbase.com/organization/nykaa   \n",
              "7    Polygon  https://www.crunchbase.com/organization/polygo...   \n",
              "8       Meta   https://www.crunchbase.com/organization/facebook   \n",
              "9       Lyft       https://www.crunchbase.com/organization/lyft   \n",
              "\n",
              "                                          INDUSTRIES  \\\n",
              "0  Artificial Intelligence, Information Technolog...   \n",
              "1  Asset Management, Credit, Finance, Financial S...   \n",
              "2  Artificial Intelligence, GPU, Hardware, Softwa...   \n",
              "3  Bitcoin, Blockchain, Cryptocurrency, E-Commerc...   \n",
              "4  Commercial Real Estate, Coworking, Property De...   \n",
              "5       Finance, Financial Services, Venture Capital   \n",
              "6   Beauty, E-Commerce, Fashion, Lifestyle, Wellness   \n",
              "7  Blockchain, Ethereum, Information Technology, ...   \n",
              "8  Augmented Reality, Social Media, Social Networ...   \n",
              "9  Mobile Apps, Ride Sharing, Software, Transport...   \n",
              "\n",
              "                               HEADQUARTERS  \\\n",
              "0    Santa Clara, California, United States   \n",
              "1         New York, New York, United States   \n",
              "2    Santa Clara, California, United States   \n",
              "3  San Francisco, California, United States   \n",
              "4         New York, New York, United States   \n",
              "5         New York, New York, United States   \n",
              "6                Mumbai, Maharashtra, India   \n",
              "7               Bengaluru, Karnataka, India   \n",
              "8     Menlo Park, California, United States   \n",
              "9  San Francisco, California, United States   \n",
              "\n",
              "                                         DESCRIPTION CB_RANK         REVENUE  \\\n",
              "0  Intel designs, manufactures, and sells integra...       1           $10B+   \n",
              "1  Apollo Global Management is an asset managemen...       2    $500M to $1B   \n",
              "2  NVIDIA is a computing platform company, innova...       3           $10B+   \n",
              "3  Coinbase is an online platform that allows mer...       4     $1B to $10B   \n",
              "4  WeWork is a platform for creators that transfo...       5  $100M to $500M   \n",
              "5  Liquidity Capital is an investment firm that s...       6             NaN   \n",
              "6  Nykaa is an online marketplace for different b...       7  $100M to $500M   \n",
              "7  Polygon is a platform for Ethereum scaling and...       8             NaN   \n",
              "8  Meta is a social technology company that enabl...       9           $10B+   \n",
              "9  Lyft designs, markets, and operates a mobile a...      10     $1B to $10B   \n",
              "\n",
              "        FUNDING IN_CURRENCY  FUNDING_IN_USD IPO_STATUS  \\\n",
              "0  1.251000e+07         USD    1.251000e+07     Public   \n",
              "1  3.994076e+08         USD    3.994076e+08     Public   \n",
              "2  3.500000e+07         USD    3.500000e+07     Public   \n",
              "3  5.690348e+08         USD    5.690348e+08     Public   \n",
              "4  2.194578e+10         USD    2.194578e+10     Public   \n",
              "5  7.950000e+08         USD    7.950000e+08    Private   \n",
              "6  1.484586e+08         USD    1.484586e+08     Public   \n",
              "7  4.504500e+08         USD    4.504500e+08    Private   \n",
              "8  1.612282e+10         USD    1.612282e+10     Public   \n",
              "9  4.913607e+09         USD    4.913607e+09     Public   \n",
              "\n",
              "                                            FOUNDERS  ACQUISITIONS  \n",
              "0                         Gordon Moore, Robert Noyce         108.0  \n",
              "1                Josh Harris, Leon Black, Marc Rowan          84.0  \n",
              "2      Chris Malachowsky, Curtis Priem, Jensen Huang          21.0  \n",
              "3                       Brian Armstrong, Fred Ehrsam          22.0  \n",
              "4     Adam Neumann, Miguel McKelvey, Rebekah Neumann          21.0  \n",
              "5                Oron Maymon, Ron Daniel, Yaron Sela           NaN  \n",
              "6                                      Falguni Nayar           5.0  \n",
              "7  Anurag Arjun, Jaynti Kanani, Mihailo Bjelic, S...           2.0  \n",
              "8  Andrew McCollum, Chris Hughes, Dustin Moskovit...          95.0  \n",
              "9            John Zimmer, Logan Green, Matt Van Horn          12.0  "
            ],
            "text/html": [
              "\n",
              "  <div id=\"df-6e582ebe-cf3f-4b59-acc3-965e893abd11\">\n",
              "    <div class=\"colab-df-container\">\n",
              "      <div>\n",
              "<style scoped>\n",
              "    .dataframe tbody tr th:only-of-type {\n",
              "        vertical-align: middle;\n",
              "    }\n",
              "\n",
              "    .dataframe tbody tr th {\n",
              "        vertical-align: top;\n",
              "    }\n",
              "\n",
              "    .dataframe thead th {\n",
              "        text-align: right;\n",
              "    }\n",
              "</style>\n",
              "<table border=\"1\" class=\"dataframe\">\n",
              "  <thead>\n",
              "    <tr style=\"text-align: right;\">\n",
              "      <th></th>\n",
              "      <th>COMPANY</th>\n",
              "      <th>URL</th>\n",
              "      <th>INDUSTRIES</th>\n",
              "      <th>HEADQUARTERS</th>\n",
              "      <th>DESCRIPTION</th>\n",
              "      <th>CB_RANK</th>\n",
              "      <th>REVENUE</th>\n",
              "      <th>FUNDING</th>\n",
              "      <th>IN_CURRENCY</th>\n",
              "      <th>FUNDING_IN_USD</th>\n",
              "      <th>IPO_STATUS</th>\n",
              "      <th>FOUNDERS</th>\n",
              "      <th>ACQUISITIONS</th>\n",
              "    </tr>\n",
              "  </thead>\n",
              "  <tbody>\n",
              "    <tr>\n",
              "      <th>0</th>\n",
              "      <td>Intel</td>\n",
              "      <td>https://www.crunchbase.com/organization/intel</td>\n",
              "      <td>Artificial Intelligence, Information Technolog...</td>\n",
              "      <td>Santa Clara, California, United States</td>\n",
              "      <td>Intel designs, manufactures, and sells integra...</td>\n",
              "      <td>1</td>\n",
              "      <td>$10B+</td>\n",
              "      <td>1.251000e+07</td>\n",
              "      <td>USD</td>\n",
              "      <td>1.251000e+07</td>\n",
              "      <td>Public</td>\n",
              "      <td>Gordon Moore, Robert Noyce</td>\n",
              "      <td>108.0</td>\n",
              "    </tr>\n",
              "    <tr>\n",
              "      <th>1</th>\n",
              "      <td>Apollo</td>\n",
              "      <td>https://www.crunchbase.com/organization/apollo...</td>\n",
              "      <td>Asset Management, Credit, Finance, Financial S...</td>\n",
              "      <td>New York, New York, United States</td>\n",
              "      <td>Apollo Global Management is an asset managemen...</td>\n",
              "      <td>2</td>\n",
              "      <td>$500M to $1B</td>\n",
              "      <td>3.994076e+08</td>\n",
              "      <td>USD</td>\n",
              "      <td>3.994076e+08</td>\n",
              "      <td>Public</td>\n",
              "      <td>Josh Harris, Leon Black, Marc Rowan</td>\n",
              "      <td>84.0</td>\n",
              "    </tr>\n",
              "    <tr>\n",
              "      <th>2</th>\n",
              "      <td>NVIDIA</td>\n",
              "      <td>https://www.crunchbase.com/organization/nvidia</td>\n",
              "      <td>Artificial Intelligence, GPU, Hardware, Softwa...</td>\n",
              "      <td>Santa Clara, California, United States</td>\n",
              "      <td>NVIDIA is a computing platform company, innova...</td>\n",
              "      <td>3</td>\n",
              "      <td>$10B+</td>\n",
              "      <td>3.500000e+07</td>\n",
              "      <td>USD</td>\n",
              "      <td>3.500000e+07</td>\n",
              "      <td>Public</td>\n",
              "      <td>Chris Malachowsky, Curtis Priem, Jensen Huang</td>\n",
              "      <td>21.0</td>\n",
              "    </tr>\n",
              "    <tr>\n",
              "      <th>3</th>\n",
              "      <td>Coinbase</td>\n",
              "      <td>https://www.crunchbase.com/organization/coinbase</td>\n",
              "      <td>Bitcoin, Blockchain, Cryptocurrency, E-Commerc...</td>\n",
              "      <td>San Francisco, California, United States</td>\n",
              "      <td>Coinbase is an online platform that allows mer...</td>\n",
              "      <td>4</td>\n",
              "      <td>$1B to $10B</td>\n",
              "      <td>5.690348e+08</td>\n",
              "      <td>USD</td>\n",
              "      <td>5.690348e+08</td>\n",
              "      <td>Public</td>\n",
              "      <td>Brian Armstrong, Fred Ehrsam</td>\n",
              "      <td>22.0</td>\n",
              "    </tr>\n",
              "    <tr>\n",
              "      <th>4</th>\n",
              "      <td>WeWork</td>\n",
              "      <td>https://www.crunchbase.com/organization/wework</td>\n",
              "      <td>Commercial Real Estate, Coworking, Property De...</td>\n",
              "      <td>New York, New York, United States</td>\n",
              "      <td>WeWork is a platform for creators that transfo...</td>\n",
              "      <td>5</td>\n",
              "      <td>$100M to $500M</td>\n",
              "      <td>2.194578e+10</td>\n",
              "      <td>USD</td>\n",
              "      <td>2.194578e+10</td>\n",
              "      <td>Public</td>\n",
              "      <td>Adam Neumann, Miguel McKelvey, Rebekah Neumann</td>\n",
              "      <td>21.0</td>\n",
              "    </tr>\n",
              "    <tr>\n",
              "      <th>5</th>\n",
              "      <td>Liquidity</td>\n",
              "      <td>https://www.crunchbase.com/organization/liquid...</td>\n",
              "      <td>Finance, Financial Services, Venture Capital</td>\n",
              "      <td>New York, New York, United States</td>\n",
              "      <td>Liquidity Capital is an investment firm that s...</td>\n",
              "      <td>6</td>\n",
              "      <td>NaN</td>\n",
              "      <td>7.950000e+08</td>\n",
              "      <td>USD</td>\n",
              "      <td>7.950000e+08</td>\n",
              "      <td>Private</td>\n",
              "      <td>Oron Maymon, Ron Daniel, Yaron Sela</td>\n",
              "      <td>NaN</td>\n",
              "    </tr>\n",
              "    <tr>\n",
              "      <th>6</th>\n",
              "      <td>Nykaa</td>\n",
              "      <td>https://www.crunchbase.com/organization/nykaa</td>\n",
              "      <td>Beauty, E-Commerce, Fashion, Lifestyle, Wellness</td>\n",
              "      <td>Mumbai, Maharashtra, India</td>\n",
              "      <td>Nykaa is an online marketplace for different b...</td>\n",
              "      <td>7</td>\n",
              "      <td>$100M to $500M</td>\n",
              "      <td>1.484586e+08</td>\n",
              "      <td>USD</td>\n",
              "      <td>1.484586e+08</td>\n",
              "      <td>Public</td>\n",
              "      <td>Falguni Nayar</td>\n",
              "      <td>5.0</td>\n",
              "    </tr>\n",
              "    <tr>\n",
              "      <th>7</th>\n",
              "      <td>Polygon</td>\n",
              "      <td>https://www.crunchbase.com/organization/polygo...</td>\n",
              "      <td>Blockchain, Ethereum, Information Technology, ...</td>\n",
              "      <td>Bengaluru, Karnataka, India</td>\n",
              "      <td>Polygon is a platform for Ethereum scaling and...</td>\n",
              "      <td>8</td>\n",
              "      <td>NaN</td>\n",
              "      <td>4.504500e+08</td>\n",
              "      <td>USD</td>\n",
              "      <td>4.504500e+08</td>\n",
              "      <td>Private</td>\n",
              "      <td>Anurag Arjun, Jaynti Kanani, Mihailo Bjelic, S...</td>\n",
              "      <td>2.0</td>\n",
              "    </tr>\n",
              "    <tr>\n",
              "      <th>8</th>\n",
              "      <td>Meta</td>\n",
              "      <td>https://www.crunchbase.com/organization/facebook</td>\n",
              "      <td>Augmented Reality, Social Media, Social Networ...</td>\n",
              "      <td>Menlo Park, California, United States</td>\n",
              "      <td>Meta is a social technology company that enabl...</td>\n",
              "      <td>9</td>\n",
              "      <td>$10B+</td>\n",
              "      <td>1.612282e+10</td>\n",
              "      <td>USD</td>\n",
              "      <td>1.612282e+10</td>\n",
              "      <td>Public</td>\n",
              "      <td>Andrew McCollum, Chris Hughes, Dustin Moskovit...</td>\n",
              "      <td>95.0</td>\n",
              "    </tr>\n",
              "    <tr>\n",
              "      <th>9</th>\n",
              "      <td>Lyft</td>\n",
              "      <td>https://www.crunchbase.com/organization/lyft</td>\n",
              "      <td>Mobile Apps, Ride Sharing, Software, Transport...</td>\n",
              "      <td>San Francisco, California, United States</td>\n",
              "      <td>Lyft designs, markets, and operates a mobile a...</td>\n",
              "      <td>10</td>\n",
              "      <td>$1B to $10B</td>\n",
              "      <td>4.913607e+09</td>\n",
              "      <td>USD</td>\n",
              "      <td>4.913607e+09</td>\n",
              "      <td>Public</td>\n",
              "      <td>John Zimmer, Logan Green, Matt Van Horn</td>\n",
              "      <td>12.0</td>\n",
              "    </tr>\n",
              "  </tbody>\n",
              "</table>\n",
              "</div>\n",
              "      <button class=\"colab-df-convert\" onclick=\"convertToInteractive('df-6e582ebe-cf3f-4b59-acc3-965e893abd11')\"\n",
              "              title=\"Convert this dataframe to an interactive table.\"\n",
              "              style=\"display:none;\">\n",
              "        \n",
              "  <svg xmlns=\"http://www.w3.org/2000/svg\" height=\"24px\"viewBox=\"0 0 24 24\"\n",
              "       width=\"24px\">\n",
              "    <path d=\"M0 0h24v24H0V0z\" fill=\"none\"/>\n",
              "    <path d=\"M18.56 5.44l.94 2.06.94-2.06 2.06-.94-2.06-.94-.94-2.06-.94 2.06-2.06.94zm-11 1L8.5 8.5l.94-2.06 2.06-.94-2.06-.94L8.5 2.5l-.94 2.06-2.06.94zm10 10l.94 2.06.94-2.06 2.06-.94-2.06-.94-.94-2.06-.94 2.06-2.06.94z\"/><path d=\"M17.41 7.96l-1.37-1.37c-.4-.4-.92-.59-1.43-.59-.52 0-1.04.2-1.43.59L10.3 9.45l-7.72 7.72c-.78.78-.78 2.05 0 2.83L4 21.41c.39.39.9.59 1.41.59.51 0 1.02-.2 1.41-.59l7.78-7.78 2.81-2.81c.8-.78.8-2.07 0-2.86zM5.41 20L4 18.59l7.72-7.72 1.47 1.35L5.41 20z\"/>\n",
              "  </svg>\n",
              "      </button>\n",
              "      \n",
              "  <style>\n",
              "    .colab-df-container {\n",
              "      display:flex;\n",
              "      flex-wrap:wrap;\n",
              "      gap: 12px;\n",
              "    }\n",
              "\n",
              "    .colab-df-convert {\n",
              "      background-color: #E8F0FE;\n",
              "      border: none;\n",
              "      border-radius: 50%;\n",
              "      cursor: pointer;\n",
              "      display: none;\n",
              "      fill: #1967D2;\n",
              "      height: 32px;\n",
              "      padding: 0 0 0 0;\n",
              "      width: 32px;\n",
              "    }\n",
              "\n",
              "    .colab-df-convert:hover {\n",
              "      background-color: #E2EBFA;\n",
              "      box-shadow: 0px 1px 2px rgba(60, 64, 67, 0.3), 0px 1px 3px 1px rgba(60, 64, 67, 0.15);\n",
              "      fill: #174EA6;\n",
              "    }\n",
              "\n",
              "    [theme=dark] .colab-df-convert {\n",
              "      background-color: #3B4455;\n",
              "      fill: #D2E3FC;\n",
              "    }\n",
              "\n",
              "    [theme=dark] .colab-df-convert:hover {\n",
              "      background-color: #434B5C;\n",
              "      box-shadow: 0px 1px 3px 1px rgba(0, 0, 0, 0.15);\n",
              "      filter: drop-shadow(0px 1px 2px rgba(0, 0, 0, 0.3));\n",
              "      fill: #FFFFFF;\n",
              "    }\n",
              "  </style>\n",
              "\n",
              "      <script>\n",
              "        const buttonEl =\n",
              "          document.querySelector('#df-6e582ebe-cf3f-4b59-acc3-965e893abd11 button.colab-df-convert');\n",
              "        buttonEl.style.display =\n",
              "          google.colab.kernel.accessAllowed ? 'block' : 'none';\n",
              "\n",
              "        async function convertToInteractive(key) {\n",
              "          const element = document.querySelector('#df-6e582ebe-cf3f-4b59-acc3-965e893abd11');\n",
              "          const dataTable =\n",
              "            await google.colab.kernel.invokeFunction('convertToInteractive',\n",
              "                                                     [key], {});\n",
              "          if (!dataTable) return;\n",
              "\n",
              "          const docLinkHtml = 'Like what you see? Visit the ' +\n",
              "            '<a target=\"_blank\" href=https://colab.research.google.com/notebooks/data_table.ipynb>data table notebook</a>'\n",
              "            + ' to learn more about interactive tables.';\n",
              "          element.innerHTML = '';\n",
              "          dataTable['output_type'] = 'display_data';\n",
              "          await google.colab.output.renderOutput(dataTable, element);\n",
              "          const docLink = document.createElement('div');\n",
              "          docLink.innerHTML = docLinkHtml;\n",
              "          element.appendChild(docLink);\n",
              "        }\n",
              "      </script>\n",
              "    </div>\n",
              "  </div>\n",
              "  "
            ]
          },
          "metadata": {},
          "execution_count": 12
        }
      ]
    },
    {
      "cell_type": "markdown",
      "source": [
        "# INPUT HERE\n",
        "Please enter input here\n",
        "\n",
        "Tested example: intel"
      ],
      "metadata": {
        "id": "TyGNVNwzeLlD"
      }
    },
    {
      "cell_type": "code",
      "source": [
        "company = input(\"Enter company of interest: \")"
      ],
      "metadata": {
        "colab": {
          "base_uri": "https://localhost:8080/"
        },
        "id": "zjSiIZOWa-f1",
        "outputId": "47b11875-ff4c-48a2-beb6-29d9974a67bb"
      },
      "execution_count": null,
      "outputs": [
        {
          "name": "stdout",
          "output_type": "stream",
          "text": [
            "Enter company of interest: intel\n"
          ]
        }
      ]
    },
    {
      "cell_type": "code",
      "source": [
        "print(company)"
      ],
      "metadata": {
        "colab": {
          "base_uri": "https://localhost:8080/"
        },
        "id": "bMe5nRF8bbQq",
        "outputId": "6d503dfe-6e26-496e-9d23-efb4f37def8b"
      },
      "execution_count": null,
      "outputs": [
        {
          "output_type": "stream",
          "name": "stdout",
          "text": [
            "intel\n"
          ]
        }
      ]
    },
    {
      "cell_type": "code",
      "source": [
        "df_crunchbase['COMPANY'] = df_crunchbase['COMPANY'].str.lower()\n",
        "company = company.lower()"
      ],
      "metadata": {
        "id": "EgHaVquytax5"
      },
      "execution_count": null,
      "outputs": []
    },
    {
      "cell_type": "code",
      "source": [
        "df_news = pd.DataFrame()"
      ],
      "metadata": {
        "id": "US3b93md8ih5"
      },
      "execution_count": null,
      "outputs": []
    },
    {
      "cell_type": "code",
      "source": [
        "def getNews(field):\n",
        "  gn = GoogleNews()\n",
        "  s = gn.search(field)\n",
        "  x =[None]*100\n",
        "  i=0\n",
        "  for entry in s['entries']:\n",
        "    x[i] = entry['title']\n",
        "    i+=1\n",
        "  print(x)\n",
        "  df_news['TITLE'] = x"
      ],
      "metadata": {
        "id": "r2ilXNKzbEDx"
      },
      "execution_count": null,
      "outputs": []
    },
    {
      "cell_type": "code",
      "source": [
        "founders = None\n",
        "if company in df_crunchbase['COMPANY'].values:\n",
        "  index = df_crunchbase.index[df_crunchbase['COMPANY']==company].tolist()\n",
        "  founders = (df_crunchbase['FOUNDERS'].iloc[index]).to_string(index=False)\n",
        "  news_string = founders.replace(\",\", \" OR\").strip()\n",
        "  news_string = company + ' OR ' + news_string\n",
        "  getNews(news_string)\n",
        "  df_news.mask(df_news.eq('None')).dropna()\n",
        "else:\n",
        "  print('Company not in our cruchbase list, we will only be presenting news articles related to your input')\n",
        "  getNews(company)\n",
        "  df_news = df_news.mask(df_news.eq('None')).dropna()"
      ],
      "metadata": {
        "colab": {
          "base_uri": "https://localhost:8080/"
        },
        "id": "kJAENcnR8byI",
        "outputId": "317826c2-dee5-4dd1-ec79-d7118afbc19e"
      },
      "execution_count": null,
      "outputs": [
        {
          "output_type": "stream",
          "name": "stdout",
          "text": [
            "['Everything PC S01E03 – ‘The story of Intel – part 1’ - TechCentral', 'Glory Days - Electronics Weekly', \"Happy B'Day Gordon Moore: One Of The Founding Fathers Of Silicon Valley - Dazeinfo\", \"Moore's Law Is Dead. Now What? - Built In\", 'Holacracy - Electronics Weekly', 'Happy Birthday to Gordon Moore – EEJournal - EE Journal', 'AMD Reported Record Revenue: Is AMD Stock A Good Buy During A Dip? - Seeking Alpha', 'The “Traitorous Eight” and the Rise of Fairchild Semiconductor - News - All About Circuits', 'AMD EPYC \"Genoa\" and \"Turin\" rumored to support a new SP6 socket, Genoa-X also planned - VideoCardz.com', \"Moore's law: Why Is Moore's Law in Trouble? - Interesting Engineering\", \"10 facts you (probably) didn't know about Intel Corp.'s 50-year history, including its founding, original name, and more - Silicon Valley Business Journal - The Business Journals\", 'MIT titles nanoscience building in honor of AMD CEO Dr. Lisa Su - Wccftech', 'Intel CEO Gelsinger spells out five-year renewal plan inspired by iconic leaders - The Register', 'Jay Last, One of the Rebels Who Founded Silicon Valley, Dies at 92 - The New York Times', 'Ohio University and Intel: Past, present and future - Ohio University', 'IEEE Robert N. Noyce Medal Awarded To AMD CEO Dr. Lisa Su For Pushing The Semiconductor Industry Forward - Wccftech', \"Silicon Valley Owes Its Success To This Tech Genius You've Never Heard Of - Smithsonian Magazine\", 'A College Job and Its Impact on the Direction of Ethernet - Viodi View', 'Why Intel is in turnaround mode - Yahoo Finance', 'Birth Of Intel And First Robot-Related Death: This Week In Tech History - Forbes', 'Bloomberg Billionaires Index - Gordon Moore - Bloomberg', \"NVIDIA's Huang Gets Overdue Recognition | Internet News - InternetNews.com\", 'Intel CEO has an audacious $43.5B plan to revive the troubled chipmake - Fast Company', \"Intel co-founder's former Silicon Valley mansion for sale for $22 million — take a look inside - CNBC\", 'If You Want the Real Silicon Valley, Skip Bravo and Tune In to PBS - WIRED', 'Gordon Moore - Cofounder and Chairman Emeritus, Intel - Forbes', 'Intel slipped—and its future now depends on making everyone else’s chips - Ars Technica', 'Photos: Former estate of Silicon Valley legend, Intel co-founder for sale - The Mercury News', 'Say Happy 50th Birthday to the Microprocessor, Part I - EE Journal', 'Fable: The Mayor - Electronics Weekly', 'How Intel (INTC) Missed the Mobile Revolution and Fell Behind - Bloomberg', \"AMD's Lisa Su Receives Robert Noyce Award, Named After First Intel CEO - Tom's Hardware\", 'Intel opens $3B factory expansion in Oregon - VentureBeat', 'We’re not prepared for the end of Moore’s Law - MIT Technology Review', 'Robert Noyce and the Tunnel Diode - IEEE Spectrum', \"What Is Moore's Law—and Did it Inspire the Computer Age? - zocalopublicsquare.org\", 'Widow speaks about Bob Noyce, telling the human side of the mayor of Silicon Valley (video) - VentureBeat', 'Robert Noyce: Why Steve Jobs idolized Noyce - The Christian Science Monitor', 'The Roots of Silicon Valley, Part 2: Planar Technology, The Fairchildren - Eetasia.com', 'This Silicon Valley revolutionary finally gets his due - MarketWatch', 'Jensen Huang gets chip industry’s highest honor 28 years after founding Nvidia - VentureBeat', 'Quotes by Intel Co-founder, Gordon Moore to live by - Techstory', 'Remembering 1968: The birth of Intel - CBS News', '5 Key Intel Shareholders (INTC) - Investopedia', 'Intel Co-Founder’s Silicon Valley Estate Lists for $21.8 Million - The Wall Street Journal', 'Intel Stock Forecast and Semiconductor Predictions - Investment U', \"Intel's chip recovery plan could restore US manufacturing prowess - CNET\", 'UCLA Engineering Professor Jason Cong Receives 2022 IEEE Noyce Medal - UCLA Samueli School of Engineering Newsroom', \"How computers got amazing: Moore's Law at 50 - USA TODAY\", 'Robert Noyce, The Father of Silicon Valley - Business Insider', \"Intel gut-punches Apple by hiring engineer that 'led transition' from Intel-based Macs to Apple Silicon - PC Gamer\", 'Former Intel CEO and Silicon Valley legend Andy Grove dies - Computerworld', 'The Tinkerings of Robert Noyce - Esquire', 'Noyce and the Integrated Circuit’s Invention - The Wall Street Journal', \"Speaker highlights Intel's 40-year impact - Rio Rancho Observer\", \"Google doodle celebrates Robert Noyce; Intel co-founder and 'Mayor of Silicon Valley' - Engadget\", 'Robert Noyce and the Inventors of Personal Computing - PCMag', 'Metronome for the modern age - Salon', \"Alumnus Jason Cong's IEEE Robert N. Noyce Medal Represents an Impactful Computing Career Emboldened by the Right Choices - Illinois Computer Science News\", \"New Intel CEO Pat Gelsinger's Top Four Priorities For Employees - CRN\", \"Can Intel's 'boy wonder' pull a Steve Jobs? - MarketWatch\", 'The Man Who Made the Computer Age Possible - strategy+business Today', \"Intel has suspended operations in Russia and calls for 'swift return to peace' - PC Gamer\", \"Apple's M1 Chip Poses a Threat to Intel and Other Chip Makers - Interesting Engineering\", 'Opinion | How Arthur Rock kick-started Silicon Valley - The Washington Post', \"Taiwan's no. 1 alarming insecurity, according to Intel's chief operating officer, necessitates aid to American chipmakers - TechnoSports\", 'Tom Wolfe Called Out Silicon Valley’s ‘Bro Culture’ in 1983 - Observer', 'The Deep Intel, AMD & Nvidia Connection That You Never Knew Existed - Wccftech', 'Intel mastermind, Silicon Valley statesman Andy Grove dead at 79 - Reuters', 'TSMC Is Stuck in the Middle of a Global Panic Over Chip Supply - Bloomberg', \"Fairchild Semiconductor And The Men Who Helped Invent 'Silicon' Valley - Forbes\", 'Robert Noyce - The Mayor of Silicon Valley - Techstory', 'Colby CC student earns prestigious Noyce scholarship - Hays Post', 'AMERICAN EXPERIENCE: Silicon Valley - KPBS', \"Intel CEO Pat Gelsinger says revising the company's missteps is a 5-year task - PC Gamer\", 'Summer 2016 - The Quiet Man Behind the Computer Revolution - Philanthropy Roundtable', \"Book review: 'The Intel Trinity,' on the men who built Intel, by Michael S. Malone - The Washington Post\", 'Opinion | Moore’s Law Turns 50 - The New York Times', 'Worst Coming-of-Age Movies of All Time - 24/7 Wall St.', 'Tech Giants Are Fighting Over Falling Helium Supplies - PR Newswire', \"Intel CEO says AMD's CPU dominance is 'over with Alder Lake' - PC Gamer\", \"Intel's new CEO Pat Gelsinger plans US$20 billion expansion for chip giant - The CEO Magazine\", 'Intel at crossroads: Should it split into two companies? - FierceElectronics', 'Gordon Moore Is the Nerdy Moses of Silicon Valley - The Daily Beast', \"Book Review: 'The Intel Trinity' by Michael S. Malone - The Wall Street Journal\", \"Jobs and Intel's Noyce Forged Early Bond - The Wall Street Journal\", 'The Evolution Of Intel 1969 - 2022 - CCL Online', 'JOAN LAPPIN: Advanced Micro Devices vs. Intel - Sarasota Herald-Tribune', 'Jensen Huang press Q&A: Nvidia’s plans for the Omniverse, Earth-2, and CPUs - VentureBeat', \"Let's get together: Intel's 2030 commitments include 'shared' climate and social goals | Greenbiz - GreenBiz\", 'Inside Intel: A Look at the Mega Chip Maker - Investopedia', 'Andy Grove, former Intel CEO and personal computing pioneer, dead at 79 - CNN.com', 'RIP Andy Grove, Who Turned Intel Into a Household Name | Inc.com - Inc.', 'MIT to name Building 12, home of MIT.nano, in honor of Lisa Su - MIT News', \"The End of Moore's Law? - MIT Technology Review\", 'And Now Let Us Praise, and Consider the Absurd Luck of, Famous Men - The Atlantic', \"A Rare Mix Created Silicon Valley's Startup Culture - NPR\", 'What you need to know about unions and Big Tech - The Washington Post', 'William Shockley: the failed man manager who inspired Silicon Valley - The Times', None]\n"
          ]
        }
      ]
    },
    {
      "cell_type": "code",
      "source": [
        "df_news.count"
      ],
      "metadata": {
        "colab": {
          "base_uri": "https://localhost:8080/"
        },
        "id": "TR9ZHtAx5FJ4",
        "outputId": "5875105f-fcf8-476d-f344-f3255dbaf23e"
      },
      "execution_count": null,
      "outputs": [
        {
          "output_type": "execute_result",
          "data": {
            "text/plain": [
              "<bound method DataFrame.count of                                                 TITLE\n",
              "0   Everything PC S01E03 – ‘The story of Intel – p...\n",
              "1                     Glory Days - Electronics Weekly\n",
              "2   Happy B'Day Gordon Moore: One Of The Founding ...\n",
              "3           Moore's Law Is Dead. Now What? - Built In\n",
              "4                      Holacracy - Electronics Weekly\n",
              "..                                                ...\n",
              "95  And Now Let Us Praise, and Consider the Absurd...\n",
              "96  A Rare Mix Created Silicon Valley's Startup Cu...\n",
              "97  What you need to know about unions and Big Tec...\n",
              "98  William Shockley: the failed man manager who i...\n",
              "99                                               None\n",
              "\n",
              "[100 rows x 1 columns]>"
            ]
          },
          "metadata": {},
          "execution_count": 19
        }
      ]
    },
    {
      "cell_type": "markdown",
      "source": [
        "# Modeling"
      ],
      "metadata": {
        "id": "WA5I3BP6QUVI"
      }
    },
    {
      "cell_type": "markdown",
      "source": [
        "### Sentiment Analysis: NLTK Vader"
      ],
      "metadata": {
        "id": "A5ilDMSTlSV9"
      }
    },
    {
      "cell_type": "code",
      "source": [
        "from nltk.sentiment import SentimentIntensityAnalyzer\n",
        "sia = SentimentIntensityAnalyzer()"
      ],
      "metadata": {
        "id": "XlddeepKT2Ou",
        "colab": {
          "base_uri": "https://localhost:8080/"
        },
        "outputId": "3d7bc732-3624-4a7d-82c0-0bafbf950232"
      },
      "execution_count": null,
      "outputs": [
        {
          "output_type": "stream",
          "name": "stderr",
          "text": [
            "/usr/local/lib/python3.7/dist-packages/nltk/twitter/__init__.py:20: UserWarning: The twython library has not been installed. Some functionality from the twitter package will not be available.\n",
            "  warnings.warn(\"The twython library has not been installed. \"\n"
          ]
        }
      ]
    },
    {
      "cell_type": "code",
      "source": [
        "def find_sentiment_score(post):\n",
        "    return sia.polarity_scores(post)[\"compound\"] "
      ],
      "metadata": {
        "id": "g2mmn7_nlY0B"
      },
      "execution_count": null,
      "outputs": []
    },
    {
      "cell_type": "code",
      "source": [
        "def find_sentiment(post):\n",
        "    if sia.polarity_scores(post)[\"compound\"] > 0:\n",
        "        return \"Positive\"\n",
        "    elif sia.polarity_scores(post)[\"compound\"] < 0:\n",
        "        return \"Negative\"\n",
        "    else:\n",
        "        return \"Neutral\" "
      ],
      "metadata": {
        "id": "0FsU42QCmmhP"
      },
      "execution_count": null,
      "outputs": []
    },
    {
      "cell_type": "code",
      "source": [
        "sentiments = [None]*100\n",
        "sentiment_score = [None]*100\n",
        "i = 0\n",
        "for post in df_news['TITLE']:\n",
        "  if post!=None:\n",
        "    sentiments[i] = find_sentiment(post)\n",
        "    sentiment_score[i] = find_sentiment_score(post)\n",
        "    i+=1\n",
        "  else:\n",
        "    sentiments[i] = None\n",
        "    sentiment_score[i] = None\n",
        "    i+=1\n",
        "\n",
        "df_news['SENTIMENT'] = sentiments\n",
        "df_news['SCORE'] = sentiment_score"
      ],
      "metadata": {
        "id": "bapMMz70qW1o"
      },
      "execution_count": null,
      "outputs": []
    },
    {
      "cell_type": "code",
      "source": [
        "df_news.head()"
      ],
      "metadata": {
        "colab": {
          "base_uri": "https://localhost:8080/"
        },
        "id": "CePvlKbEqjsg",
        "outputId": "ff5d1339-d6c7-40be-870c-16425c2a120a"
      },
      "execution_count": null,
      "outputs": [
        {
          "output_type": "execute_result",
          "data": {
            "text/plain": [
              "                                               TITLE SENTIMENT   SCORE\n",
              "0  Everything PC S01E03 – ‘The story of Intel – p...   Neutral  0.0000\n",
              "1                    Glory Days - Electronics Weekly  Positive  0.5423\n",
              "2  Happy B'Day Gordon Moore: One Of The Founding ...  Positive  0.5719\n",
              "3          Moore's Law Is Dead. Now What? - Built In  Negative -0.6486\n",
              "4                     Holacracy - Electronics Weekly   Neutral  0.0000"
            ],
            "text/html": [
              "\n",
              "  <div id=\"df-41c86de5-1295-49cf-839c-d859e4806afb\">\n",
              "    <div class=\"colab-df-container\">\n",
              "      <div>\n",
              "<style scoped>\n",
              "    .dataframe tbody tr th:only-of-type {\n",
              "        vertical-align: middle;\n",
              "    }\n",
              "\n",
              "    .dataframe tbody tr th {\n",
              "        vertical-align: top;\n",
              "    }\n",
              "\n",
              "    .dataframe thead th {\n",
              "        text-align: right;\n",
              "    }\n",
              "</style>\n",
              "<table border=\"1\" class=\"dataframe\">\n",
              "  <thead>\n",
              "    <tr style=\"text-align: right;\">\n",
              "      <th></th>\n",
              "      <th>TITLE</th>\n",
              "      <th>SENTIMENT</th>\n",
              "      <th>SCORE</th>\n",
              "    </tr>\n",
              "  </thead>\n",
              "  <tbody>\n",
              "    <tr>\n",
              "      <th>0</th>\n",
              "      <td>Everything PC S01E03 – ‘The story of Intel – p...</td>\n",
              "      <td>Neutral</td>\n",
              "      <td>0.0000</td>\n",
              "    </tr>\n",
              "    <tr>\n",
              "      <th>1</th>\n",
              "      <td>Glory Days - Electronics Weekly</td>\n",
              "      <td>Positive</td>\n",
              "      <td>0.5423</td>\n",
              "    </tr>\n",
              "    <tr>\n",
              "      <th>2</th>\n",
              "      <td>Happy B'Day Gordon Moore: One Of The Founding ...</td>\n",
              "      <td>Positive</td>\n",
              "      <td>0.5719</td>\n",
              "    </tr>\n",
              "    <tr>\n",
              "      <th>3</th>\n",
              "      <td>Moore's Law Is Dead. Now What? - Built In</td>\n",
              "      <td>Negative</td>\n",
              "      <td>-0.6486</td>\n",
              "    </tr>\n",
              "    <tr>\n",
              "      <th>4</th>\n",
              "      <td>Holacracy - Electronics Weekly</td>\n",
              "      <td>Neutral</td>\n",
              "      <td>0.0000</td>\n",
              "    </tr>\n",
              "  </tbody>\n",
              "</table>\n",
              "</div>\n",
              "      <button class=\"colab-df-convert\" onclick=\"convertToInteractive('df-41c86de5-1295-49cf-839c-d859e4806afb')\"\n",
              "              title=\"Convert this dataframe to an interactive table.\"\n",
              "              style=\"display:none;\">\n",
              "        \n",
              "  <svg xmlns=\"http://www.w3.org/2000/svg\" height=\"24px\"viewBox=\"0 0 24 24\"\n",
              "       width=\"24px\">\n",
              "    <path d=\"M0 0h24v24H0V0z\" fill=\"none\"/>\n",
              "    <path d=\"M18.56 5.44l.94 2.06.94-2.06 2.06-.94-2.06-.94-.94-2.06-.94 2.06-2.06.94zm-11 1L8.5 8.5l.94-2.06 2.06-.94-2.06-.94L8.5 2.5l-.94 2.06-2.06.94zm10 10l.94 2.06.94-2.06 2.06-.94-2.06-.94-.94-2.06-.94 2.06-2.06.94z\"/><path d=\"M17.41 7.96l-1.37-1.37c-.4-.4-.92-.59-1.43-.59-.52 0-1.04.2-1.43.59L10.3 9.45l-7.72 7.72c-.78.78-.78 2.05 0 2.83L4 21.41c.39.39.9.59 1.41.59.51 0 1.02-.2 1.41-.59l7.78-7.78 2.81-2.81c.8-.78.8-2.07 0-2.86zM5.41 20L4 18.59l7.72-7.72 1.47 1.35L5.41 20z\"/>\n",
              "  </svg>\n",
              "      </button>\n",
              "      \n",
              "  <style>\n",
              "    .colab-df-container {\n",
              "      display:flex;\n",
              "      flex-wrap:wrap;\n",
              "      gap: 12px;\n",
              "    }\n",
              "\n",
              "    .colab-df-convert {\n",
              "      background-color: #E8F0FE;\n",
              "      border: none;\n",
              "      border-radius: 50%;\n",
              "      cursor: pointer;\n",
              "      display: none;\n",
              "      fill: #1967D2;\n",
              "      height: 32px;\n",
              "      padding: 0 0 0 0;\n",
              "      width: 32px;\n",
              "    }\n",
              "\n",
              "    .colab-df-convert:hover {\n",
              "      background-color: #E2EBFA;\n",
              "      box-shadow: 0px 1px 2px rgba(60, 64, 67, 0.3), 0px 1px 3px 1px rgba(60, 64, 67, 0.15);\n",
              "      fill: #174EA6;\n",
              "    }\n",
              "\n",
              "    [theme=dark] .colab-df-convert {\n",
              "      background-color: #3B4455;\n",
              "      fill: #D2E3FC;\n",
              "    }\n",
              "\n",
              "    [theme=dark] .colab-df-convert:hover {\n",
              "      background-color: #434B5C;\n",
              "      box-shadow: 0px 1px 3px 1px rgba(0, 0, 0, 0.15);\n",
              "      filter: drop-shadow(0px 1px 2px rgba(0, 0, 0, 0.3));\n",
              "      fill: #FFFFFF;\n",
              "    }\n",
              "  </style>\n",
              "\n",
              "      <script>\n",
              "        const buttonEl =\n",
              "          document.querySelector('#df-41c86de5-1295-49cf-839c-d859e4806afb button.colab-df-convert');\n",
              "        buttonEl.style.display =\n",
              "          google.colab.kernel.accessAllowed ? 'block' : 'none';\n",
              "\n",
              "        async function convertToInteractive(key) {\n",
              "          const element = document.querySelector('#df-41c86de5-1295-49cf-839c-d859e4806afb');\n",
              "          const dataTable =\n",
              "            await google.colab.kernel.invokeFunction('convertToInteractive',\n",
              "                                                     [key], {});\n",
              "          if (!dataTable) return;\n",
              "\n",
              "          const docLinkHtml = 'Like what you see? Visit the ' +\n",
              "            '<a target=\"_blank\" href=https://colab.research.google.com/notebooks/data_table.ipynb>data table notebook</a>'\n",
              "            + ' to learn more about interactive tables.';\n",
              "          element.innerHTML = '';\n",
              "          dataTable['output_type'] = 'display_data';\n",
              "          await google.colab.output.renderOutput(dataTable, element);\n",
              "          const docLink = document.createElement('div');\n",
              "          docLink.innerHTML = docLinkHtml;\n",
              "          element.appendChild(docLink);\n",
              "        }\n",
              "      </script>\n",
              "    </div>\n",
              "  </div>\n",
              "  "
            ]
          },
          "metadata": {},
          "execution_count": 24
        }
      ]
    },
    {
      "cell_type": "code",
      "source": [
        "max_val = df_news['SCORE'].max()\n",
        "min_val = df_news['SCORE'].min()\n",
        "max_title = (df_news.loc[df_news.SCORE == max_val, 'TITLE'])\n",
        "min_title = (df_news.loc[df_news.SCORE == min_val, 'TITLE'])\n",
        "overall_sentiment = df_news['SCORE'].mean()"
      ],
      "metadata": {
        "id": "IFyYgs9Z0NND"
      },
      "execution_count": null,
      "outputs": []
    },
    {
      "cell_type": "markdown",
      "source": [
        "# Graph"
      ],
      "metadata": {
        "id": "7aUvvzcuzaRq"
      }
    },
    {
      "cell_type": "code",
      "source": [
        "graph_df = df_news[:10]\n",
        "graph_df.head()"
      ],
      "metadata": {
        "colab": {
          "base_uri": "https://localhost:8080/"
        },
        "id": "gpwLeECLA2Xk",
        "outputId": "bad6339c-b74a-4eae-feda-29f48ffbcd8e"
      },
      "execution_count": null,
      "outputs": [
        {
          "output_type": "execute_result",
          "data": {
            "text/plain": [
              "                                               TITLE SENTIMENT   SCORE\n",
              "0  Everything PC S01E03 – ‘The story of Intel – p...   Neutral  0.0000\n",
              "1                    Glory Days - Electronics Weekly  Positive  0.5423\n",
              "2  Happy B'Day Gordon Moore: One Of The Founding ...  Positive  0.5719\n",
              "3          Moore's Law Is Dead. Now What? - Built In  Negative -0.6486\n",
              "4                     Holacracy - Electronics Weekly   Neutral  0.0000"
            ],
            "text/html": [
              "\n",
              "  <div id=\"df-4bc1a405-90d2-4806-b737-cc8526a4f103\">\n",
              "    <div class=\"colab-df-container\">\n",
              "      <div>\n",
              "<style scoped>\n",
              "    .dataframe tbody tr th:only-of-type {\n",
              "        vertical-align: middle;\n",
              "    }\n",
              "\n",
              "    .dataframe tbody tr th {\n",
              "        vertical-align: top;\n",
              "    }\n",
              "\n",
              "    .dataframe thead th {\n",
              "        text-align: right;\n",
              "    }\n",
              "</style>\n",
              "<table border=\"1\" class=\"dataframe\">\n",
              "  <thead>\n",
              "    <tr style=\"text-align: right;\">\n",
              "      <th></th>\n",
              "      <th>TITLE</th>\n",
              "      <th>SENTIMENT</th>\n",
              "      <th>SCORE</th>\n",
              "    </tr>\n",
              "  </thead>\n",
              "  <tbody>\n",
              "    <tr>\n",
              "      <th>0</th>\n",
              "      <td>Everything PC S01E03 – ‘The story of Intel – p...</td>\n",
              "      <td>Neutral</td>\n",
              "      <td>0.0000</td>\n",
              "    </tr>\n",
              "    <tr>\n",
              "      <th>1</th>\n",
              "      <td>Glory Days - Electronics Weekly</td>\n",
              "      <td>Positive</td>\n",
              "      <td>0.5423</td>\n",
              "    </tr>\n",
              "    <tr>\n",
              "      <th>2</th>\n",
              "      <td>Happy B'Day Gordon Moore: One Of The Founding ...</td>\n",
              "      <td>Positive</td>\n",
              "      <td>0.5719</td>\n",
              "    </tr>\n",
              "    <tr>\n",
              "      <th>3</th>\n",
              "      <td>Moore's Law Is Dead. Now What? - Built In</td>\n",
              "      <td>Negative</td>\n",
              "      <td>-0.6486</td>\n",
              "    </tr>\n",
              "    <tr>\n",
              "      <th>4</th>\n",
              "      <td>Holacracy - Electronics Weekly</td>\n",
              "      <td>Neutral</td>\n",
              "      <td>0.0000</td>\n",
              "    </tr>\n",
              "  </tbody>\n",
              "</table>\n",
              "</div>\n",
              "      <button class=\"colab-df-convert\" onclick=\"convertToInteractive('df-4bc1a405-90d2-4806-b737-cc8526a4f103')\"\n",
              "              title=\"Convert this dataframe to an interactive table.\"\n",
              "              style=\"display:none;\">\n",
              "        \n",
              "  <svg xmlns=\"http://www.w3.org/2000/svg\" height=\"24px\"viewBox=\"0 0 24 24\"\n",
              "       width=\"24px\">\n",
              "    <path d=\"M0 0h24v24H0V0z\" fill=\"none\"/>\n",
              "    <path d=\"M18.56 5.44l.94 2.06.94-2.06 2.06-.94-2.06-.94-.94-2.06-.94 2.06-2.06.94zm-11 1L8.5 8.5l.94-2.06 2.06-.94-2.06-.94L8.5 2.5l-.94 2.06-2.06.94zm10 10l.94 2.06.94-2.06 2.06-.94-2.06-.94-.94-2.06-.94 2.06-2.06.94z\"/><path d=\"M17.41 7.96l-1.37-1.37c-.4-.4-.92-.59-1.43-.59-.52 0-1.04.2-1.43.59L10.3 9.45l-7.72 7.72c-.78.78-.78 2.05 0 2.83L4 21.41c.39.39.9.59 1.41.59.51 0 1.02-.2 1.41-.59l7.78-7.78 2.81-2.81c.8-.78.8-2.07 0-2.86zM5.41 20L4 18.59l7.72-7.72 1.47 1.35L5.41 20z\"/>\n",
              "  </svg>\n",
              "      </button>\n",
              "      \n",
              "  <style>\n",
              "    .colab-df-container {\n",
              "      display:flex;\n",
              "      flex-wrap:wrap;\n",
              "      gap: 12px;\n",
              "    }\n",
              "\n",
              "    .colab-df-convert {\n",
              "      background-color: #E8F0FE;\n",
              "      border: none;\n",
              "      border-radius: 50%;\n",
              "      cursor: pointer;\n",
              "      display: none;\n",
              "      fill: #1967D2;\n",
              "      height: 32px;\n",
              "      padding: 0 0 0 0;\n",
              "      width: 32px;\n",
              "    }\n",
              "\n",
              "    .colab-df-convert:hover {\n",
              "      background-color: #E2EBFA;\n",
              "      box-shadow: 0px 1px 2px rgba(60, 64, 67, 0.3), 0px 1px 3px 1px rgba(60, 64, 67, 0.15);\n",
              "      fill: #174EA6;\n",
              "    }\n",
              "\n",
              "    [theme=dark] .colab-df-convert {\n",
              "      background-color: #3B4455;\n",
              "      fill: #D2E3FC;\n",
              "    }\n",
              "\n",
              "    [theme=dark] .colab-df-convert:hover {\n",
              "      background-color: #434B5C;\n",
              "      box-shadow: 0px 1px 3px 1px rgba(0, 0, 0, 0.15);\n",
              "      filter: drop-shadow(0px 1px 2px rgba(0, 0, 0, 0.3));\n",
              "      fill: #FFFFFF;\n",
              "    }\n",
              "  </style>\n",
              "\n",
              "      <script>\n",
              "        const buttonEl =\n",
              "          document.querySelector('#df-4bc1a405-90d2-4806-b737-cc8526a4f103 button.colab-df-convert');\n",
              "        buttonEl.style.display =\n",
              "          google.colab.kernel.accessAllowed ? 'block' : 'none';\n",
              "\n",
              "        async function convertToInteractive(key) {\n",
              "          const element = document.querySelector('#df-4bc1a405-90d2-4806-b737-cc8526a4f103');\n",
              "          const dataTable =\n",
              "            await google.colab.kernel.invokeFunction('convertToInteractive',\n",
              "                                                     [key], {});\n",
              "          if (!dataTable) return;\n",
              "\n",
              "          const docLinkHtml = 'Like what you see? Visit the ' +\n",
              "            '<a target=\"_blank\" href=https://colab.research.google.com/notebooks/data_table.ipynb>data table notebook</a>'\n",
              "            + ' to learn more about interactive tables.';\n",
              "          element.innerHTML = '';\n",
              "          dataTable['output_type'] = 'display_data';\n",
              "          await google.colab.output.renderOutput(dataTable, element);\n",
              "          const docLink = document.createElement('div');\n",
              "          docLink.innerHTML = docLinkHtml;\n",
              "          element.appendChild(docLink);\n",
              "        }\n",
              "      </script>\n",
              "    </div>\n",
              "  </div>\n",
              "  "
            ]
          },
          "metadata": {},
          "execution_count": 26
        }
      ]
    },
    {
      "cell_type": "code",
      "source": [
        "import networkx as nx\n",
        "from networkx.drawing.nx_agraph import to_agraph\n",
        "\n",
        "G = nx.Graph()\n",
        "G.add_node(\"Positive\",color='green',style='filled',fillcolor='green')\n",
        "G.add_node(\"Negative\",color='red',style='filled',fillcolor='red')\n",
        "G.add_node(\"Neutral\",color='blue',style='filled',fillcolor='blue')\n",
        "for index, row in graph_df.iterrows():\n",
        "      if row['SENTIMENT'] == 'Positive':\n",
        "        colour = 'g'\n",
        "      if row['SENTIMENT'] == 'Negative':\n",
        "        colour = 'r' \n",
        "      if row['SENTIMENT'] == 'Neutral':\n",
        "        colour = 'b'    \n",
        "      G.add_edge(row['TITLE'],row['SENTIMENT'],color=colour)\n",
        "labels = {}\n",
        "pos = nx.layout.kamada_kawai_layout(G)\n",
        "colors = nx.get_edge_attributes(G,'color').values()\n",
        "nx.draw(G, pos=pos, edge_color=colors, with_labels= True)\n"
      ],
      "metadata": {
        "id": "G8_a0YUe2iL9",
        "colab": {
          "base_uri": "https://localhost:8080/"
        },
        "outputId": "40e48fcf-ec13-4dbd-9c11-8f856f709680"
      },
      "execution_count": null,
      "outputs": [
        {
          "output_type": "display_data",
          "data": {
            "text/plain": [
              "<Figure size 432x288 with 1 Axes>"
            ],
            "image/png": "[encoded data removed]"
          },
          "metadata": {}
        }
      ]
    },
    {
      "cell_type": "markdown",
      "source": [
        "# OUTPUT"
      ],
      "metadata": {
        "id": "iK0JvPb23Yz4"
      }
    },
    {
      "cell_type": "code",
      "source": [
        "investments = (df_crunchbase['FUNDING'].iloc[index])\n",
        "acquisitions = (df_crunchbase['ACQUISITIONS'].iloc[index])\n",
        "max_title = max_title.to_string(index=False)\n",
        "min_title = min_title.to_string(index=False)"
      ],
      "metadata": {
        "id": "BH8pOR6f5rrV"
      },
      "execution_count": null,
      "outputs": []
    },
    {
      "cell_type": "code",
      "source": [
        "if overall_sentiment > 0:\n",
        "  overall_sentiment_value = \"Positive - Good for Investment\"\n",
        "elif overall_sentiment < 0:\n",
        "  overall_sentiment_value = \"Negative - Not a good investment\"\n",
        "else:\n",
        "  overall_sentiment_value = \"Neutral - Can invest\" "
      ],
      "metadata": {
        "id": "3EQylWQmiarH"
      },
      "execution_count": null,
      "outputs": []
    },
    {
      "cell_type": "code",
      "source": [
        "result_dict = { 'company_name' : [company], 'Company Founders' : [founders], 'Top positive news' : [max_title], 'Top negative news' : [min_title], 'Overall Sentiment' : [overall_sentiment_value], 'Investments' : [investments], 'Acquisition' : [acquisitions]}\n",
        "result_df = pd.DataFrame(result_dict)\n",
        "result_df.to_csv('output.csv', index = True)"
      ],
      "metadata": {
        "id": "2CqWUkRQStWw"
      },
      "execution_count": null,
      "outputs": []
    },
    {
      "cell_type": "markdown",
      "source": [
        "\n",
        "Please check the files for \"output.csv\"\n",
        "\n",
        "Our output looks like: \n",
        "![image.png](data:image/png;base64,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)"
      ],
      "metadata": {
        "id": "D6e9y4t26ReZ"
      }
    }
  ]
}