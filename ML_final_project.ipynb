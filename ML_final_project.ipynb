{
  "nbformat": 4,
  "nbformat_minor": 0,
  "metadata": {
    "colab": {
      "name": "ML final project.ipynb",
      "provenance": [],
      "machine_shape": "hm",
      "collapsed_sections": [],
      "include_colab_link": true
    },
    "kernelspec": {
      "name": "python3",
      "display_name": "Python 3"
    },
    "language_info": {
      "name": "python"
    },
    "accelerator": "GPU"
  },
  "cells": [
    {
      "cell_type": "markdown",
      "metadata": {
        "id": "view-in-github",
        "colab_type": "text"
      },
      "source": [
        "<a href=\"https://colab.research.google.com/github/AshikaAnand12/Company-acquisition-sentiment-analysis/blob/main/ML_final_project.ipynb\" target=\"_parent\"><img src=\"https://colab.research.google.com/assets/colab-badge.svg\" alt=\"Open In Colab\"/></a>"
      ]
    },
    {
      "cell_type": "markdown",
      "source": [
        "# Environment Setup"
      ],
      "metadata": {
        "id": "QJerExXcaQ-o"
      }
    },
    {
      "cell_type": "code",
      "source": [
        "from google.colab import drive\n",
        "drive.mount('/content/gdrive')"
      ],
      "metadata": {
        "colab": {
          "base_uri": "https://localhost:8080/"
        },
        "id": "EVHTULFhgkRh",
        "outputId": "9aa6c42d-1557-4001-8efd-a22d5848c6fc"
      },
      "execution_count": null,
      "outputs": [
        {
          "output_type": "stream",
          "name": "stdout",
          "text": [
            "Mounted at /content/gdrive\n"
          ]
        }
      ]
    },
    {
      "cell_type": "code",
      "source": [
        "!pip install pygooglenews"
      ],
      "metadata": {
        "colab": {
          "base_uri": "https://localhost:8080/"
        },
        "id": "7bD-2aM0aVve",
        "outputId": "942fa533-887a-41d5-dd10-f8c72322bbe2"
      },
      "execution_count": null,
      "outputs": [
        {
          "output_type": "stream",
          "name": "stdout",
          "text": [
            "Collecting pygooglenews\n",
            "  Downloading pygooglenews-0.1.2-py3-none-any.whl (10 kB)\n",
            "Collecting feedparser<6.0.0,>=5.2.1\n",
            "  Downloading feedparser-5.2.1.zip (1.2 MB)\n",
            "\u001b[K     |████████████████████████████████| 1.2 MB 7.4 MB/s \n",
            "\u001b[?25hCollecting beautifulsoup4<5.0.0,>=4.9.1\n",
            "  Downloading beautifulsoup4-4.11.1-py3-none-any.whl (128 kB)\n",
            "\u001b[K     |████████████████████████████████| 128 kB 59.3 MB/s \n",
            "\u001b[?25hCollecting dateparser<0.8.0,>=0.7.6\n",
            "  Downloading dateparser-0.7.6-py2.py3-none-any.whl (362 kB)\n",
            "\u001b[K     |████████████████████████████████| 362 kB 46.3 MB/s \n",
            "\u001b[?25hCollecting requests<3.0.0,>=2.24.0\n",
            "  Downloading requests-2.27.1-py2.py3-none-any.whl (63 kB)\n",
            "\u001b[K     |████████████████████████████████| 63 kB 1.8 MB/s \n",
            "\u001b[?25hRequirement already satisfied: soupsieve>1.2 in /usr/local/lib/python3.7/dist-packages (from beautifulsoup4<5.0.0,>=4.9.1->pygooglenews) (2.3.2.post1)\n",
            "Requirement already satisfied: python-dateutil in /usr/local/lib/python3.7/dist-packages (from dateparser<0.8.0,>=0.7.6->pygooglenews) (2.8.2)\n",
            "Requirement already satisfied: pytz in /usr/local/lib/python3.7/dist-packages (from dateparser<0.8.0,>=0.7.6->pygooglenews) (2022.1)\n",
            "Requirement already satisfied: regex!=2019.02.19 in /usr/local/lib/python3.7/dist-packages (from dateparser<0.8.0,>=0.7.6->pygooglenews) (2019.12.20)\n",
            "Requirement already satisfied: tzlocal in /usr/local/lib/python3.7/dist-packages (from dateparser<0.8.0,>=0.7.6->pygooglenews) (1.5.1)\n",
            "Requirement already satisfied: urllib3<1.27,>=1.21.1 in /usr/local/lib/python3.7/dist-packages (from requests<3.0.0,>=2.24.0->pygooglenews) (1.24.3)\n",
            "Requirement already satisfied: certifi>=2017.4.17 in /usr/local/lib/python3.7/dist-packages (from requests<3.0.0,>=2.24.0->pygooglenews) (2021.10.8)\n",
            "Requirement already satisfied: charset-normalizer~=2.0.0 in /usr/local/lib/python3.7/dist-packages (from requests<3.0.0,>=2.24.0->pygooglenews) (2.0.12)\n",
            "Requirement already satisfied: idna<4,>=2.5 in /usr/local/lib/python3.7/dist-packages (from requests<3.0.0,>=2.24.0->pygooglenews) (2.10)\n",
            "Requirement already satisfied: six>=1.5 in /usr/local/lib/python3.7/dist-packages (from python-dateutil->dateparser<0.8.0,>=0.7.6->pygooglenews) (1.15.0)\n",
            "Building wheels for collected packages: feedparser\n",
            "  Building wheel for feedparser (setup.py) ... \u001b[?25l\u001b[?25hdone\n",
            "  Created wheel for feedparser: filename=feedparser-5.2.1-py3-none-any.whl size=44952 sha256=44f5bb3bfeb6b7d6f63fc2fc7752228e50faed46907bd35d44b30d40befbdb6f\n",
            "  Stored in directory: /root/.cache/pip/wheels/29/bf/46/b4a597d435d3aee6c2fa583824897336d65abf13ebe3405b70\n",
            "Successfully built feedparser\n",
            "Installing collected packages: requests, feedparser, dateparser, beautifulsoup4, pygooglenews\n",
            "  Attempting uninstall: requests\n",
            "    Found existing installation: requests 2.23.0\n",
            "    Uninstalling requests-2.23.0:\n",
            "      Successfully uninstalled requests-2.23.0\n",
            "  Attempting uninstall: beautifulsoup4\n",
            "    Found existing installation: beautifulsoup4 4.6.3\n",
            "    Uninstalling beautifulsoup4-4.6.3:\n",
            "      Successfully uninstalled beautifulsoup4-4.6.3\n",
            "\u001b[31mERROR: pip's dependency resolver does not currently take into account all the packages that are installed. This behaviour is the source of the following dependency conflicts.\n",
            "google-colab 1.0.0 requires requests~=2.23.0, but you have requests 2.27.1 which is incompatible.\n",
            "datascience 0.10.6 requires folium==0.2.1, but you have folium 0.8.3 which is incompatible.\u001b[0m\n",
            "Successfully installed beautifulsoup4-4.11.1 dateparser-0.7.6 feedparser-5.2.1 pygooglenews-0.1.2 requests-2.27.1\n"
          ]
        }
      ]
    },
    {
      "cell_type": "code",
      "source": [
        "pip install transformers"
      ],
      "metadata": {
        "colab": {
          "base_uri": "https://localhost:8080/"
        },
        "id": "EenVCjMFSNyW",
        "outputId": "1e3e4c1e-c65f-4b85-b998-0678c0c0b1c4"
      },
      "execution_count": null,
      "outputs": [
        {
          "output_type": "stream",
          "name": "stdout",
          "text": [
            "Collecting transformers\n",
            "  Downloading transformers-4.19.2-py3-none-any.whl (4.2 MB)\n",
            "\u001b[K     |████████████████████████████████| 4.2 MB 7.2 MB/s \n",
            "\u001b[?25hRequirement already satisfied: importlib-metadata in /usr/local/lib/python3.7/dist-packages (from transformers) (4.11.3)\n",
            "Collecting pyyaml>=5.1\n",
            "  Downloading PyYAML-6.0-cp37-cp37m-manylinux_2_5_x86_64.manylinux1_x86_64.manylinux_2_12_x86_64.manylinux2010_x86_64.whl (596 kB)\n",
            "\u001b[K     |████████████████████████████████| 596 kB 48.1 MB/s \n",
            "\u001b[?25hRequirement already satisfied: numpy>=1.17 in /usr/local/lib/python3.7/dist-packages (from transformers) (1.21.6)\n",
            "Requirement already satisfied: packaging>=20.0 in /usr/local/lib/python3.7/dist-packages (from transformers) (21.3)\n",
            "Requirement already satisfied: regex!=2019.12.17 in /usr/local/lib/python3.7/dist-packages (from transformers) (2019.12.20)\n",
            "Requirement already satisfied: requests in /usr/local/lib/python3.7/dist-packages (from transformers) (2.27.1)\n",
            "Requirement already satisfied: filelock in /usr/local/lib/python3.7/dist-packages (from transformers) (3.7.0)\n",
            "Requirement already satisfied: tqdm>=4.27 in /usr/local/lib/python3.7/dist-packages (from transformers) (4.64.0)\n",
            "Collecting tokenizers!=0.11.3,<0.13,>=0.11.1\n",
            "  Downloading tokenizers-0.12.1-cp37-cp37m-manylinux_2_12_x86_64.manylinux2010_x86_64.whl (6.6 MB)\n",
            "\u001b[K     |████████████████████████████████| 6.6 MB 52.0 MB/s \n",
            "\u001b[?25hCollecting huggingface-hub<1.0,>=0.1.0\n",
            "  Downloading huggingface_hub-0.6.0-py3-none-any.whl (84 kB)\n",
            "\u001b[K     |████████████████████████████████| 84 kB 2.5 MB/s \n",
            "\u001b[?25hRequirement already satisfied: typing-extensions>=3.7.4.3 in /usr/local/lib/python3.7/dist-packages (from huggingface-hub<1.0,>=0.1.0->transformers) (4.2.0)\n",
            "Requirement already satisfied: pyparsing!=3.0.5,>=2.0.2 in /usr/local/lib/python3.7/dist-packages (from packaging>=20.0->transformers) (3.0.9)\n",
            "Requirement already satisfied: zipp>=0.5 in /usr/local/lib/python3.7/dist-packages (from importlib-metadata->transformers) (3.8.0)\n",
            "Requirement already satisfied: idna<4,>=2.5 in /usr/local/lib/python3.7/dist-packages (from requests->transformers) (2.10)\n",
            "Requirement already satisfied: urllib3<1.27,>=1.21.1 in /usr/local/lib/python3.7/dist-packages (from requests->transformers) (1.24.3)\n",
            "Requirement already satisfied: certifi>=2017.4.17 in /usr/local/lib/python3.7/dist-packages (from requests->transformers) (2021.10.8)\n",
            "Requirement already satisfied: charset-normalizer~=2.0.0 in /usr/local/lib/python3.7/dist-packages (from requests->transformers) (2.0.12)\n",
            "Installing collected packages: pyyaml, tokenizers, huggingface-hub, transformers\n",
            "  Attempting uninstall: pyyaml\n",
            "    Found existing installation: PyYAML 3.13\n",
            "    Uninstalling PyYAML-3.13:\n",
            "      Successfully uninstalled PyYAML-3.13\n",
            "Successfully installed huggingface-hub-0.6.0 pyyaml-6.0 tokenizers-0.12.1 transformers-4.19.2\n"
          ]
        }
      ]
    },
    {
      "cell_type": "code",
      "source": [
        "pip install fast_ml==3.68"
      ],
      "metadata": {
        "colab": {
          "base_uri": "https://localhost:8080/"
        },
        "id": "377r2hHuSVLh",
        "outputId": "7d503514-4639-48e4-d94d-f231c32c40f5"
      },
      "execution_count": null,
      "outputs": [
        {
          "output_type": "stream",
          "name": "stdout",
          "text": [
            "Collecting fast_ml==3.68\n",
            "  Downloading fast_ml-3.68-py3-none-any.whl (42 kB)\n",
            "\u001b[?25l\r\u001b[K     |███████▉                        | 10 kB 25.5 MB/s eta 0:00:01\r\u001b[K     |███████████████▋                | 20 kB 19.9 MB/s eta 0:00:01\r\u001b[K     |███████████████████████▍        | 30 kB 15.1 MB/s eta 0:00:01\r\u001b[K     |███████████████████████████████▏| 40 kB 13.9 MB/s eta 0:00:01\r\u001b[K     |████████████████████████████████| 42 kB 579 kB/s \n",
            "\u001b[?25hInstalling collected packages: fast-ml\n",
            "Successfully installed fast-ml-3.68\n"
          ]
        }
      ]
    },
    {
      "cell_type": "code",
      "source": [
        "pip install datasets"
      ],
      "metadata": {
        "colab": {
          "base_uri": "https://localhost:8080/"
        },
        "id": "2909VA17SWTJ",
        "outputId": "c681642c-8df7-4f2c-c25b-0088c26e3ad8"
      },
      "execution_count": null,
      "outputs": [
        {
          "output_type": "stream",
          "name": "stdout",
          "text": [
            "Collecting datasets\n",
            "  Downloading datasets-2.2.2-py3-none-any.whl (346 kB)\n",
            "\u001b[K     |████████████████████████████████| 346 kB 8.3 MB/s \n",
            "\u001b[?25hCollecting xxhash\n",
            "  Downloading xxhash-3.0.0-cp37-cp37m-manylinux_2_17_x86_64.manylinux2014_x86_64.whl (212 kB)\n",
            "\u001b[K     |████████████████████████████████| 212 kB 49.4 MB/s \n",
            "\u001b[?25hRequirement already satisfied: importlib-metadata in /usr/local/lib/python3.7/dist-packages (from datasets) (4.11.3)\n",
            "Requirement already satisfied: pyarrow>=6.0.0 in /usr/local/lib/python3.7/dist-packages (from datasets) (6.0.1)\n",
            "Collecting responses<0.19\n",
            "  Downloading responses-0.18.0-py3-none-any.whl (38 kB)\n",
            "Collecting aiohttp\n",
            "  Downloading aiohttp-3.8.1-cp37-cp37m-manylinux_2_5_x86_64.manylinux1_x86_64.manylinux_2_12_x86_64.manylinux2010_x86_64.whl (1.1 MB)\n",
            "\u001b[K     |████████████████████████████████| 1.1 MB 56.4 MB/s \n",
            "\u001b[?25hCollecting fsspec[http]>=2021.05.0\n",
            "  Downloading fsspec-2022.5.0-py3-none-any.whl (140 kB)\n",
            "\u001b[K     |████████████████████████████████| 140 kB 40.3 MB/s \n",
            "\u001b[?25hRequirement already satisfied: requests>=2.19.0 in /usr/local/lib/python3.7/dist-packages (from datasets) (2.27.1)\n",
            "Requirement already satisfied: pandas in /usr/local/lib/python3.7/dist-packages (from datasets) (1.3.5)\n",
            "Requirement already satisfied: tqdm>=4.62.1 in /usr/local/lib/python3.7/dist-packages (from datasets) (4.64.0)\n",
            "Requirement already satisfied: multiprocess in /usr/local/lib/python3.7/dist-packages (from datasets) (0.70.12.2)\n",
            "Requirement already satisfied: numpy>=1.17 in /usr/local/lib/python3.7/dist-packages (from datasets) (1.21.6)\n",
            "Requirement already satisfied: huggingface-hub<1.0.0,>=0.1.0 in /usr/local/lib/python3.7/dist-packages (from datasets) (0.6.0)\n",
            "Requirement already satisfied: packaging in /usr/local/lib/python3.7/dist-packages (from datasets) (21.3)\n",
            "Requirement already satisfied: dill<0.3.5 in /usr/local/lib/python3.7/dist-packages (from datasets) (0.3.4)\n",
            "Requirement already satisfied: pyyaml in /usr/local/lib/python3.7/dist-packages (from huggingface-hub<1.0.0,>=0.1.0->datasets) (6.0)\n",
            "Requirement already satisfied: filelock in /usr/local/lib/python3.7/dist-packages (from huggingface-hub<1.0.0,>=0.1.0->datasets) (3.7.0)\n",
            "Requirement already satisfied: typing-extensions>=3.7.4.3 in /usr/local/lib/python3.7/dist-packages (from huggingface-hub<1.0.0,>=0.1.0->datasets) (4.2.0)\n",
            "Requirement already satisfied: pyparsing!=3.0.5,>=2.0.2 in /usr/local/lib/python3.7/dist-packages (from packaging->datasets) (3.0.9)\n",
            "Requirement already satisfied: certifi>=2017.4.17 in /usr/local/lib/python3.7/dist-packages (from requests>=2.19.0->datasets) (2021.10.8)\n",
            "Requirement already satisfied: idna<4,>=2.5 in /usr/local/lib/python3.7/dist-packages (from requests>=2.19.0->datasets) (2.10)\n",
            "Requirement already satisfied: urllib3<1.27,>=1.21.1 in /usr/local/lib/python3.7/dist-packages (from requests>=2.19.0->datasets) (1.24.3)\n",
            "Requirement already satisfied: charset-normalizer~=2.0.0 in /usr/local/lib/python3.7/dist-packages (from requests>=2.19.0->datasets) (2.0.12)\n",
            "Collecting urllib3<1.27,>=1.21.1\n",
            "  Downloading urllib3-1.26.9-py2.py3-none-any.whl (138 kB)\n",
            "\u001b[K     |████████████████████████████████| 138 kB 42.6 MB/s \n",
            "\u001b[?25hCollecting multidict<7.0,>=4.5\n",
            "  Downloading multidict-6.0.2-cp37-cp37m-manylinux_2_17_x86_64.manylinux2014_x86_64.whl (94 kB)\n",
            "\u001b[K     |████████████████████████████████| 94 kB 3.7 MB/s \n",
            "\u001b[?25hRequirement already satisfied: attrs>=17.3.0 in /usr/local/lib/python3.7/dist-packages (from aiohttp->datasets) (21.4.0)\n",
            "Collecting aiosignal>=1.1.2\n",
            "  Downloading aiosignal-1.2.0-py3-none-any.whl (8.2 kB)\n",
            "Collecting async-timeout<5.0,>=4.0.0a3\n",
            "  Downloading async_timeout-4.0.2-py3-none-any.whl (5.8 kB)\n",
            "Collecting asynctest==0.13.0\n",
            "  Downloading asynctest-0.13.0-py3-none-any.whl (26 kB)\n",
            "Collecting frozenlist>=1.1.1\n",
            "  Downloading frozenlist-1.3.0-cp37-cp37m-manylinux_2_5_x86_64.manylinux1_x86_64.manylinux_2_17_x86_64.manylinux2014_x86_64.whl (144 kB)\n",
            "\u001b[K     |████████████████████████████████| 144 kB 64.5 MB/s \n",
            "\u001b[?25hCollecting yarl<2.0,>=1.0\n",
            "  Downloading yarl-1.7.2-cp37-cp37m-manylinux_2_5_x86_64.manylinux1_x86_64.manylinux_2_12_x86_64.manylinux2010_x86_64.whl (271 kB)\n",
            "\u001b[K     |████████████████████████████████| 271 kB 52.9 MB/s \n",
            "\u001b[?25hRequirement already satisfied: zipp>=0.5 in /usr/local/lib/python3.7/dist-packages (from importlib-metadata->datasets) (3.8.0)\n",
            "Requirement already satisfied: pytz>=2017.3 in /usr/local/lib/python3.7/dist-packages (from pandas->datasets) (2022.1)\n",
            "Requirement already satisfied: python-dateutil>=2.7.3 in /usr/local/lib/python3.7/dist-packages (from pandas->datasets) (2.8.2)\n",
            "Requirement already satisfied: six>=1.5 in /usr/local/lib/python3.7/dist-packages (from python-dateutil>=2.7.3->pandas->datasets) (1.15.0)\n",
            "Installing collected packages: multidict, frozenlist, yarl, urllib3, asynctest, async-timeout, aiosignal, fsspec, aiohttp, xxhash, responses, datasets\n",
            "  Attempting uninstall: urllib3\n",
            "    Found existing installation: urllib3 1.24.3\n",
            "    Uninstalling urllib3-1.24.3:\n",
            "      Successfully uninstalled urllib3-1.24.3\n",
            "\u001b[31mERROR: pip's dependency resolver does not currently take into account all the packages that are installed. This behaviour is the source of the following dependency conflicts.\n",
            "google-colab 1.0.0 requires requests~=2.23.0, but you have requests 2.27.1 which is incompatible.\n",
            "datascience 0.10.6 requires folium==0.2.1, but you have folium 0.8.3 which is incompatible.\u001b[0m\n",
            "Successfully installed aiohttp-3.8.1 aiosignal-1.2.0 async-timeout-4.0.2 asynctest-0.13.0 datasets-2.2.2 frozenlist-1.3.0 fsspec-2022.5.0 multidict-6.0.2 responses-0.18.0 urllib3-1.26.9 xxhash-3.0.0 yarl-1.7.2\n"
          ]
        }
      ]
    },
    {
      "cell_type": "code",
      "source": [
        "!pip install neattext\n",
        "import neattext as ntx"
      ],
      "metadata": {
        "colab": {
          "base_uri": "https://localhost:8080/"
        },
        "id": "oUX-0U7rplhH",
        "outputId": "b87961d3-69d2-4a7e-8ca8-6154c2ecaa12"
      },
      "execution_count": null,
      "outputs": [
        {
          "output_type": "stream",
          "name": "stdout",
          "text": [
            "Collecting neattext\n",
            "  Downloading neattext-0.1.3-py3-none-any.whl (114 kB)\n",
            "\u001b[?25l\r\u001b[K     |██▉                             | 10 kB 23.7 MB/s eta 0:00:01\r\u001b[K     |█████▊                          | 20 kB 24.1 MB/s eta 0:00:01\r\u001b[K     |████████▋                       | 30 kB 16.7 MB/s eta 0:00:01\r\u001b[K     |███████████▍                    | 40 kB 14.4 MB/s eta 0:00:01\r\u001b[K     |██████████████▎                 | 51 kB 6.5 MB/s eta 0:00:01\r\u001b[K     |█████████████████▏              | 61 kB 7.6 MB/s eta 0:00:01\r\u001b[K     |████████████████████            | 71 kB 8.6 MB/s eta 0:00:01\r\u001b[K     |██████████████████████▉         | 81 kB 8.3 MB/s eta 0:00:01\r\u001b[K     |█████████████████████████▊      | 92 kB 9.2 MB/s eta 0:00:01\r\u001b[K     |████████████████████████████▋   | 102 kB 7.7 MB/s eta 0:00:01\r\u001b[K     |███████████████████████████████▍| 112 kB 7.7 MB/s eta 0:00:01\r\u001b[K     |████████████████████████████████| 114 kB 7.7 MB/s \n",
            "\u001b[?25hInstalling collected packages: neattext\n",
            "Successfully installed neattext-0.1.3\n"
          ]
        }
      ]
    },
    {
      "cell_type": "code",
      "source": [
        "import pandas as pd\n",
        "from pygooglenews import GoogleNews\n",
        "import re\n",
        "import nltk\n",
        "import json\n",
        "nltk.download('wordnet')\n",
        "nltk.download('punkt')\n",
        "nltk.download('vader_lexicon')\n",
        "from nltk.stem import WordNetLemmatizer\n",
        "from nltk.probability import FreqDist\n",
        "from wordcloud import WordCloud, STOPWORDS\n",
        "from nltk.util import ngrams\n",
        "from nltk.tokenize import word_tokenize\n",
        "from nltk.corpus import subjectivity\n",
        "%matplotlib inline "
      ],
      "metadata": {
        "id": "4kvSA5M7ogmc",
        "colab": {
          "base_uri": "https://localhost:8080/"
        },
        "outputId": "124db7f6-5664-40b1-f294-6ac00f08bb5c"
      },
      "execution_count": null,
      "outputs": [
        {
          "output_type": "stream",
          "name": "stdout",
          "text": [
            "[nltk_data] Downloading package wordnet to /root/nltk_data...\n",
            "[nltk_data]   Unzipping corpora/wordnet.zip.\n",
            "[nltk_data] Downloading package punkt to /root/nltk_data...\n",
            "[nltk_data]   Unzipping tokenizers/punkt.zip.\n",
            "[nltk_data] Downloading package vader_lexicon to /root/nltk_data...\n"
          ]
        }
      ]
    },
    {
      "cell_type": "markdown",
      "source": [
        "# Data Preparation"
      ],
      "metadata": {
        "id": "yif718H3QN-U"
      }
    },
    {
      "cell_type": "code",
      "source": [
        "df_crunchbase = pd.read_csv('gdrive/My Drive/Conquerors/CrunchBase/dataset.csv')\n"
      ],
      "metadata": {
        "id": "BtSj5VynnZjD"
      },
      "execution_count": null,
      "outputs": []
    },
    {
      "cell_type": "code",
      "source": [
        "df_crunchbase.rename(columns={\"Organization Name\": \"COMPANY\", \"Organization Name URL\":\"URL\",\"Industries\":\"INDUSTRIES\",\"Headquarters Location\":\"HEADQUARTERS\",\"Description\":\"DESCRIPTION\",\"CB Rank (Company)\":\"CB_RANK\",\"Estimated Revenue Range\": \"REVENUE\", \"Total Funding Amount\":\"FUNDING\",\"Total Funding Amount Currency\":\"IN_CURRENCY\",\"Total Funding Amount Currency (in USD)\":\"FUNDING_IN_USD\",\"IPO Status\":\"IPO_STATUS\",\"Number of Acquisitions\":\"ACQUISITIONS\", \"Founders\":\"FOUNDERS\"}, inplace=True)\n",
        "df_crunchbase.head(10)"
      ],
      "metadata": {
        "colab": {
          "base_uri": "https://localhost:8080/",
          "height": 1000
        },
        "id": "skkW7nuTdAnG",
        "outputId": "12b515c0-8f5f-405c-b64d-11110358d34a"
      },
      "execution_count": null,
      "outputs": [
        {
          "output_type": "execute_result",
          "data": {
            "text/plain": [
              "     COMPANY                                                URL  \\\n",
              "0      Intel      https://www.crunchbase.com/organization/intel   \n",
              "1     Apollo  https://www.crunchbase.com/organization/apollo...   \n",
              "2     NVIDIA     https://www.crunchbase.com/organization/nvidia   \n",
              "3   Coinbase   https://www.crunchbase.com/organization/coinbase   \n",
              "4     WeWork     https://www.crunchbase.com/organization/wework   \n",
              "5  Liquidity  https://www.crunchbase.com/organization/liquid...   \n",
              "6      Nykaa      https://www.crunchbase.com/organization/nykaa   \n",
              "7    Polygon  https://www.crunchbase.com/organization/polygo...   \n",
              "8       Meta   https://www.crunchbase.com/organization/facebook   \n",
              "9       Lyft       https://www.crunchbase.com/organization/lyft   \n",
              "\n",
              "                                          INDUSTRIES  \\\n",
              "0  Artificial Intelligence, Information Technolog...   \n",
              "1  Asset Management, Credit, Finance, Financial S...   \n",
              "2  Artificial Intelligence, GPU, Hardware, Softwa...   \n",
              "3  Bitcoin, Blockchain, Cryptocurrency, E-Commerc...   \n",
              "4  Commercial Real Estate, Coworking, Property De...   \n",
              "5       Finance, Financial Services, Venture Capital   \n",
              "6   Beauty, E-Commerce, Fashion, Lifestyle, Wellness   \n",
              "7  Blockchain, Ethereum, Information Technology, ...   \n",
              "8  Augmented Reality, Social Media, Social Networ...   \n",
              "9  Mobile Apps, Ride Sharing, Software, Transport...   \n",
              "\n",
              "                               HEADQUARTERS  \\\n",
              "0    Santa Clara, California, United States   \n",
              "1         New York, New York, United States   \n",
              "2    Santa Clara, California, United States   \n",
              "3  San Francisco, California, United States   \n",
              "4         New York, New York, United States   \n",
              "5         New York, New York, United States   \n",
              "6                Mumbai, Maharashtra, India   \n",
              "7               Bengaluru, Karnataka, India   \n",
              "8     Menlo Park, California, United States   \n",
              "9  San Francisco, California, United States   \n",
              "\n",
              "                                         DESCRIPTION CB_RANK         REVENUE  \\\n",
              "0  Intel designs, manufactures, and sells integra...       1           $10B+   \n",
              "1  Apollo Global Management is an asset managemen...       2    $500M to $1B   \n",
              "2  NVIDIA is a computing platform company, innova...       3           $10B+   \n",
              "3  Coinbase is an online platform that allows mer...       4     $1B to $10B   \n",
              "4  WeWork is a platform for creators that transfo...       5  $100M to $500M   \n",
              "5  Liquidity Capital is an investment firm that s...       6             NaN   \n",
              "6  Nykaa is an online marketplace for different b...       7  $100M to $500M   \n",
              "7  Polygon is a platform for Ethereum scaling and...       8             NaN   \n",
              "8  Meta is a social technology company that enabl...       9           $10B+   \n",
              "9  Lyft designs, markets, and operates a mobile a...      10     $1B to $10B   \n",
              "\n",
              "        FUNDING IN_CURRENCY  FUNDING_IN_USD IPO_STATUS  \\\n",
              "0  1.251000e+07         USD    1.251000e+07     Public   \n",
              "1  3.994076e+08         USD    3.994076e+08     Public   \n",
              "2  3.500000e+07         USD    3.500000e+07     Public   \n",
              "3  5.690348e+08         USD    5.690348e+08     Public   \n",
              "4  2.194578e+10         USD    2.194578e+10     Public   \n",
              "5  7.950000e+08         USD    7.950000e+08    Private   \n",
              "6  1.484586e+08         USD    1.484586e+08     Public   \n",
              "7  4.504500e+08         USD    4.504500e+08    Private   \n",
              "8  1.612282e+10         USD    1.612282e+10     Public   \n",
              "9  4.913607e+09         USD    4.913607e+09     Public   \n",
              "\n",
              "                                            FOUNDERS  ACQUISITIONS  \n",
              "0                         Gordon Moore, Robert Noyce         108.0  \n",
              "1                Josh Harris, Leon Black, Marc Rowan          84.0  \n",
              "2      Chris Malachowsky, Curtis Priem, Jensen Huang          21.0  \n",
              "3                       Brian Armstrong, Fred Ehrsam          22.0  \n",
              "4     Adam Neumann, Miguel McKelvey, Rebekah Neumann          21.0  \n",
              "5                Oron Maymon, Ron Daniel, Yaron Sela           NaN  \n",
              "6                                      Falguni Nayar           5.0  \n",
              "7  Anurag Arjun, Jaynti Kanani, Mihailo Bjelic, S...           2.0  \n",
              "8  Andrew McCollum, Chris Hughes, Dustin Moskovit...          95.0  \n",
              "9            John Zimmer, Logan Green, Matt Van Horn          12.0  "
            ],
            "text/html": [
              "\n",
              "  <div id=\"df-a02bb917-204d-45b4-9f02-130971599dd5\">\n",
              "    <div class=\"colab-df-container\">\n",
              "      <div>\n",
              "<style scoped>\n",
              "    .dataframe tbody tr th:only-of-type {\n",
              "        vertical-align: middle;\n",
              "    }\n",
              "\n",
              "    .dataframe tbody tr th {\n",
              "        vertical-align: top;\n",
              "    }\n",
              "\n",
              "    .dataframe thead th {\n",
              "        text-align: right;\n",
              "    }\n",
              "</style>\n",
              "<table border=\"1\" class=\"dataframe\">\n",
              "  <thead>\n",
              "    <tr style=\"text-align: right;\">\n",
              "      <th></th>\n",
              "      <th>COMPANY</th>\n",
              "      <th>URL</th>\n",
              "      <th>INDUSTRIES</th>\n",
              "      <th>HEADQUARTERS</th>\n",
              "      <th>DESCRIPTION</th>\n",
              "      <th>CB_RANK</th>\n",
              "      <th>REVENUE</th>\n",
              "      <th>FUNDING</th>\n",
              "      <th>IN_CURRENCY</th>\n",
              "      <th>FUNDING_IN_USD</th>\n",
              "      <th>IPO_STATUS</th>\n",
              "      <th>FOUNDERS</th>\n",
              "      <th>ACQUISITIONS</th>\n",
              "    </tr>\n",
              "  </thead>\n",
              "  <tbody>\n",
              "    <tr>\n",
              "      <th>0</th>\n",
              "      <td>Intel</td>\n",
              "      <td>https://www.crunchbase.com/organization/intel</td>\n",
              "      <td>Artificial Intelligence, Information Technolog...</td>\n",
              "      <td>Santa Clara, California, United States</td>\n",
              "      <td>Intel designs, manufactures, and sells integra...</td>\n",
              "      <td>1</td>\n",
              "      <td>$10B+</td>\n",
              "      <td>1.251000e+07</td>\n",
              "      <td>USD</td>\n",
              "      <td>1.251000e+07</td>\n",
              "      <td>Public</td>\n",
              "      <td>Gordon Moore, Robert Noyce</td>\n",
              "      <td>108.0</td>\n",
              "    </tr>\n",
              "    <tr>\n",
              "      <th>1</th>\n",
              "      <td>Apollo</td>\n",
              "      <td>https://www.crunchbase.com/organization/apollo...</td>\n",
              "      <td>Asset Management, Credit, Finance, Financial S...</td>\n",
              "      <td>New York, New York, United States</td>\n",
              "      <td>Apollo Global Management is an asset managemen...</td>\n",
              "      <td>2</td>\n",
              "      <td>$500M to $1B</td>\n",
              "      <td>3.994076e+08</td>\n",
              "      <td>USD</td>\n",
              "      <td>3.994076e+08</td>\n",
              "      <td>Public</td>\n",
              "      <td>Josh Harris, Leon Black, Marc Rowan</td>\n",
              "      <td>84.0</td>\n",
              "    </tr>\n",
              "    <tr>\n",
              "      <th>2</th>\n",
              "      <td>NVIDIA</td>\n",
              "      <td>https://www.crunchbase.com/organization/nvidia</td>\n",
              "      <td>Artificial Intelligence, GPU, Hardware, Softwa...</td>\n",
              "      <td>Santa Clara, California, United States</td>\n",
              "      <td>NVIDIA is a computing platform company, innova...</td>\n",
              "      <td>3</td>\n",
              "      <td>$10B+</td>\n",
              "      <td>3.500000e+07</td>\n",
              "      <td>USD</td>\n",
              "      <td>3.500000e+07</td>\n",
              "      <td>Public</td>\n",
              "      <td>Chris Malachowsky, Curtis Priem, Jensen Huang</td>\n",
              "      <td>21.0</td>\n",
              "    </tr>\n",
              "    <tr>\n",
              "      <th>3</th>\n",
              "      <td>Coinbase</td>\n",
              "      <td>https://www.crunchbase.com/organization/coinbase</td>\n",
              "      <td>Bitcoin, Blockchain, Cryptocurrency, E-Commerc...</td>\n",
              "      <td>San Francisco, California, United States</td>\n",
              "      <td>Coinbase is an online platform that allows mer...</td>\n",
              "      <td>4</td>\n",
              "      <td>$1B to $10B</td>\n",
              "      <td>5.690348e+08</td>\n",
              "      <td>USD</td>\n",
              "      <td>5.690348e+08</td>\n",
              "      <td>Public</td>\n",
              "      <td>Brian Armstrong, Fred Ehrsam</td>\n",
              "      <td>22.0</td>\n",
              "    </tr>\n",
              "    <tr>\n",
              "      <th>4</th>\n",
              "      <td>WeWork</td>\n",
              "      <td>https://www.crunchbase.com/organization/wework</td>\n",
              "      <td>Commercial Real Estate, Coworking, Property De...</td>\n",
              "      <td>New York, New York, United States</td>\n",
              "      <td>WeWork is a platform for creators that transfo...</td>\n",
              "      <td>5</td>\n",
              "      <td>$100M to $500M</td>\n",
              "      <td>2.194578e+10</td>\n",
              "      <td>USD</td>\n",
              "      <td>2.194578e+10</td>\n",
              "      <td>Public</td>\n",
              "      <td>Adam Neumann, Miguel McKelvey, Rebekah Neumann</td>\n",
              "      <td>21.0</td>\n",
              "    </tr>\n",
              "    <tr>\n",
              "      <th>5</th>\n",
              "      <td>Liquidity</td>\n",
              "      <td>https://www.crunchbase.com/organization/liquid...</td>\n",
              "      <td>Finance, Financial Services, Venture Capital</td>\n",
              "      <td>New York, New York, United States</td>\n",
              "      <td>Liquidity Capital is an investment firm that s...</td>\n",
              "      <td>6</td>\n",
              "      <td>NaN</td>\n",
              "      <td>7.950000e+08</td>\n",
              "      <td>USD</td>\n",
              "      <td>7.950000e+08</td>\n",
              "      <td>Private</td>\n",
              "      <td>Oron Maymon, Ron Daniel, Yaron Sela</td>\n",
              "      <td>NaN</td>\n",
              "    </tr>\n",
              "    <tr>\n",
              "      <th>6</th>\n",
              "      <td>Nykaa</td>\n",
              "      <td>https://www.crunchbase.com/organization/nykaa</td>\n",
              "      <td>Beauty, E-Commerce, Fashion, Lifestyle, Wellness</td>\n",
              "      <td>Mumbai, Maharashtra, India</td>\n",
              "      <td>Nykaa is an online marketplace for different b...</td>\n",
              "      <td>7</td>\n",
              "      <td>$100M to $500M</td>\n",
              "      <td>1.484586e+08</td>\n",
              "      <td>USD</td>\n",
              "      <td>1.484586e+08</td>\n",
              "      <td>Public</td>\n",
              "      <td>Falguni Nayar</td>\n",
              "      <td>5.0</td>\n",
              "    </tr>\n",
              "    <tr>\n",
              "      <th>7</th>\n",
              "      <td>Polygon</td>\n",
              "      <td>https://www.crunchbase.com/organization/polygo...</td>\n",
              "      <td>Blockchain, Ethereum, Information Technology, ...</td>\n",
              "      <td>Bengaluru, Karnataka, India</td>\n",
              "      <td>Polygon is a platform for Ethereum scaling and...</td>\n",
              "      <td>8</td>\n",
              "      <td>NaN</td>\n",
              "      <td>4.504500e+08</td>\n",
              "      <td>USD</td>\n",
              "      <td>4.504500e+08</td>\n",
              "      <td>Private</td>\n",
              "      <td>Anurag Arjun, Jaynti Kanani, Mihailo Bjelic, S...</td>\n",
              "      <td>2.0</td>\n",
              "    </tr>\n",
              "    <tr>\n",
              "      <th>8</th>\n",
              "      <td>Meta</td>\n",
              "      <td>https://www.crunchbase.com/organization/facebook</td>\n",
              "      <td>Augmented Reality, Social Media, Social Networ...</td>\n",
              "      <td>Menlo Park, California, United States</td>\n",
              "      <td>Meta is a social technology company that enabl...</td>\n",
              "      <td>9</td>\n",
              "      <td>$10B+</td>\n",
              "      <td>1.612282e+10</td>\n",
              "      <td>USD</td>\n",
              "      <td>1.612282e+10</td>\n",
              "      <td>Public</td>\n",
              "      <td>Andrew McCollum, Chris Hughes, Dustin Moskovit...</td>\n",
              "      <td>95.0</td>\n",
              "    </tr>\n",
              "    <tr>\n",
              "      <th>9</th>\n",
              "      <td>Lyft</td>\n",
              "      <td>https://www.crunchbase.com/organization/lyft</td>\n",
              "      <td>Mobile Apps, Ride Sharing, Software, Transport...</td>\n",
              "      <td>San Francisco, California, United States</td>\n",
              "      <td>Lyft designs, markets, and operates a mobile a...</td>\n",
              "      <td>10</td>\n",
              "      <td>$1B to $10B</td>\n",
              "      <td>4.913607e+09</td>\n",
              "      <td>USD</td>\n",
              "      <td>4.913607e+09</td>\n",
              "      <td>Public</td>\n",
              "      <td>John Zimmer, Logan Green, Matt Van Horn</td>\n",
              "      <td>12.0</td>\n",
              "    </tr>\n",
              "  </tbody>\n",
              "</table>\n",
              "</div>\n",
              "      <button class=\"colab-df-convert\" onclick=\"convertToInteractive('df-a02bb917-204d-45b4-9f02-130971599dd5')\"\n",
              "              title=\"Convert this dataframe to an interactive table.\"\n",
              "              style=\"display:none;\">\n",
              "        \n",
              "  <svg xmlns=\"http://www.w3.org/2000/svg\" height=\"24px\"viewBox=\"0 0 24 24\"\n",
              "       width=\"24px\">\n",
              "    <path d=\"M0 0h24v24H0V0z\" fill=\"none\"/>\n",
              "    <path d=\"M18.56 5.44l.94 2.06.94-2.06 2.06-.94-2.06-.94-.94-2.06-.94 2.06-2.06.94zm-11 1L8.5 8.5l.94-2.06 2.06-.94-2.06-.94L8.5 2.5l-.94 2.06-2.06.94zm10 10l.94 2.06.94-2.06 2.06-.94-2.06-.94-.94-2.06-.94 2.06-2.06.94z\"/><path d=\"M17.41 7.96l-1.37-1.37c-.4-.4-.92-.59-1.43-.59-.52 0-1.04.2-1.43.59L10.3 9.45l-7.72 7.72c-.78.78-.78 2.05 0 2.83L4 21.41c.39.39.9.59 1.41.59.51 0 1.02-.2 1.41-.59l7.78-7.78 2.81-2.81c.8-.78.8-2.07 0-2.86zM5.41 20L4 18.59l7.72-7.72 1.47 1.35L5.41 20z\"/>\n",
              "  </svg>\n",
              "      </button>\n",
              "      \n",
              "  <style>\n",
              "    .colab-df-container {\n",
              "      display:flex;\n",
              "      flex-wrap:wrap;\n",
              "      gap: 12px;\n",
              "    }\n",
              "\n",
              "    .colab-df-convert {\n",
              "      background-color: #E8F0FE;\n",
              "      border: none;\n",
              "      border-radius: 50%;\n",
              "      cursor: pointer;\n",
              "      display: none;\n",
              "      fill: #1967D2;\n",
              "      height: 32px;\n",
              "      padding: 0 0 0 0;\n",
              "      width: 32px;\n",
              "    }\n",
              "\n",
              "    .colab-df-convert:hover {\n",
              "      background-color: #E2EBFA;\n",
              "      box-shadow: 0px 1px 2px rgba(60, 64, 67, 0.3), 0px 1px 3px 1px rgba(60, 64, 67, 0.15);\n",
              "      fill: #174EA6;\n",
              "    }\n",
              "\n",
              "    [theme=dark] .colab-df-convert {\n",
              "      background-color: #3B4455;\n",
              "      fill: #D2E3FC;\n",
              "    }\n",
              "\n",
              "    [theme=dark] .colab-df-convert:hover {\n",
              "      background-color: #434B5C;\n",
              "      box-shadow: 0px 1px 3px 1px rgba(0, 0, 0, 0.15);\n",
              "      filter: drop-shadow(0px 1px 2px rgba(0, 0, 0, 0.3));\n",
              "      fill: #FFFFFF;\n",
              "    }\n",
              "  </style>\n",
              "\n",
              "      <script>\n",
              "        const buttonEl =\n",
              "          document.querySelector('#df-a02bb917-204d-45b4-9f02-130971599dd5 button.colab-df-convert');\n",
              "        buttonEl.style.display =\n",
              "          google.colab.kernel.accessAllowed ? 'block' : 'none';\n",
              "\n",
              "        async function convertToInteractive(key) {\n",
              "          const element = document.querySelector('#df-a02bb917-204d-45b4-9f02-130971599dd5');\n",
              "          const dataTable =\n",
              "            await google.colab.kernel.invokeFunction('convertToInteractive',\n",
              "                                                     [key], {});\n",
              "          if (!dataTable) return;\n",
              "\n",
              "          const docLinkHtml = 'Like what you see? Visit the ' +\n",
              "            '<a target=\"_blank\" href=https://colab.research.google.com/notebooks/data_table.ipynb>data table notebook</a>'\n",
              "            + ' to learn more about interactive tables.';\n",
              "          element.innerHTML = '';\n",
              "          dataTable['output_type'] = 'display_data';\n",
              "          await google.colab.output.renderOutput(dataTable, element);\n",
              "          const docLink = document.createElement('div');\n",
              "          docLink.innerHTML = docLinkHtml;\n",
              "          element.appendChild(docLink);\n",
              "        }\n",
              "      </script>\n",
              "    </div>\n",
              "  </div>\n",
              "  "
            ]
          },
          "metadata": {},
          "execution_count": 10
        }
      ]
    },
    {
      "cell_type": "code",
      "source": [
        "company = input(\"Enter company of interest: \")"
      ],
      "metadata": {
        "colab": {
          "base_uri": "https://localhost:8080/"
        },
        "id": "zjSiIZOWa-f1",
        "outputId": "45aa3495-b808-475a-e507-60343e08d220"
      },
      "execution_count": null,
      "outputs": [
        {
          "name": "stdout",
          "output_type": "stream",
          "text": [
            "Enter company of interest: intel\n"
          ]
        }
      ]
    },
    {
      "cell_type": "code",
      "source": [
        "print(company)"
      ],
      "metadata": {
        "colab": {
          "base_uri": "https://localhost:8080/"
        },
        "id": "bMe5nRF8bbQq",
        "outputId": "062bac87-7196-4fca-b9a7-8f3b2d92b71d"
      },
      "execution_count": null,
      "outputs": [
        {
          "output_type": "stream",
          "name": "stdout",
          "text": [
            "intel\n"
          ]
        }
      ]
    },
    {
      "cell_type": "code",
      "source": [
        "df_crunchbase['COMPANY'] = df_crunchbase['COMPANY'].str.lower()\n",
        "company = company.lower()"
      ],
      "metadata": {
        "id": "EgHaVquytax5"
      },
      "execution_count": null,
      "outputs": []
    },
    {
      "cell_type": "code",
      "source": [
        "df_news = pd.DataFrame()"
      ],
      "metadata": {
        "id": "US3b93md8ih5"
      },
      "execution_count": null,
      "outputs": []
    },
    {
      "cell_type": "code",
      "source": [
        "def getNews(field):\n",
        "  gn = GoogleNews()\n",
        "  s = gn.search(field)\n",
        "  x =[None]*500\n",
        "  i=0\n",
        "  for entry in s['entries']:\n",
        "    x[i] = entry['title']\n",
        "    i+=1\n",
        "  print(x)\n",
        "  df_news['TITLE'] = x"
      ],
      "metadata": {
        "id": "r2ilXNKzbEDx"
      },
      "execution_count": null,
      "outputs": []
    },
    {
      "cell_type": "code",
      "source": [
        "if company in df_crunchbase['COMPANY'].values:\n",
        "  index = df_crunchbase.index[df_crunchbase['COMPANY']==company].tolist()\n",
        "  founders = (df_crunchbase['FOUNDERS'].iloc[index]).to_string(index=False)\n",
        "  news_string = founders.replace(\",\", \" OR\").strip()\n",
        "  news_string = company + ' OR ' + news_string\n",
        "  getNews(news_string)\n",
        "  df_news.mask(df_news.eq('None')).dropna()\n",
        "else:\n",
        "  print('Company not in our cruchbase list, we will only be presenting news articles related to your input')\n",
        "  getNews(company)\n",
        "  df_news = df_news.mask(df_news.eq('None')).dropna()"
      ],
      "metadata": {
        "colab": {
          "base_uri": "https://localhost:8080/"
        },
        "id": "kJAENcnR8byI",
        "outputId": "562d893f-48c4-4253-a2d5-86cae916c2f8"
      },
      "execution_count": null,
      "outputs": [
        {
          "output_type": "stream",
          "name": "stdout",
          "text": [
            "[\"Happy B'Day Gordon Moore: One Of The Founding Fathers Of Silicon Valley - Dazeinfo\", 'Holacracy - Electronics Weekly', \"Moore's Law Is Dead. Now What? - Built In\", 'Happy Birthday to Gordon Moore – EEJournal - EE Journal', 'MIT titles nanoscience building in honor of AMD CEO Dr. Lisa Su - Wccftech', 'The “Traitorous Eight” and the Rise of Fairchild Semiconductor - News - All About Circuits', \"Moore's law: Why Is Moore's Law in Trouble? - Interesting Engineering\", \"10 facts you (probably) didn't know about Intel Corp.'s 50-year history, including its founding, original name, and more - Silicon Valley Business Journal - The Business Journals\", 'IEEE Robert N. Noyce Medal Awarded To AMD CEO Dr. Lisa Su For Pushing The Semiconductor Industry Forward - Wccftech', 'Ohio University and Intel: Past, present and future - Ohio University', 'A College Job and Its Impact on the Direction of Ethernet - Viodi View', 'Jay Last, One of the Rebels Who Founded Silicon Valley, Dies at 92 - The New York Times', \"Gordon Moore's Net Worth (Updated 2021) - Wealthy Gorilla\", 'Intel CEO Gelsinger spells out five-year renewal plan inspired by iconic leaders - The Register', \"Silicon Valley Owes Its Success To This Tech Genius You've Never Heard Of - Smithsonian Magazine\", 'Why Intel is in turnaround mode - Yahoo Finance', 'Birth Of Intel And First Robot-Related Death: This Week In Tech History - Forbes', 'Gordon Moore - Cofounder and Chairman Emeritus, Intel - Forbes', 'Modern Computing: A Short History, 1945-2022 - Forbes', 'Intel CEO has an audacious $43.5B plan to revive the troubled chipmake - Fast Company', 'Bloomberg Billionaires Index - Gordon Moore - Bloomberg', 'Photos: Former estate of Silicon Valley legend, Intel co-founder for sale - The Mercury News', \"Intel co-founder's former Silicon Valley mansion for sale for $22 million — take a look inside - CNBC\", 'If You Want the Real Silicon Valley, Skip Bravo and Tune In to PBS - WIRED', 'Say Happy 50th Birthday to the Microprocessor, Part I - EE Journal', 'Fable: The Mayor - Electronics Weekly', 'Intel opens $3B factory expansion in Oregon - VentureBeat', 'Robert Noyce and the Tunnel Diode - IEEE Spectrum', \"AMD's Lisa Su Receives Robert Noyce Award, Named After First Intel CEO - Tom's Hardware\", 'How Intel (INTC) Missed the Mobile Revolution and Fell Behind - Bloomberg', 'We’re not prepared for the end of Moore’s Law - MIT Technology Review', \"NVIDIA CEO Lands One of Semiconductor Industry's Top Honors - Electronic Design\", 'This Silicon Valley revolutionary finally gets his due - MarketWatch', \"What Is Moore's Law—and Did it Inspire the Computer Age? - zocalopublicsquare.org\", 'Robert Noyce: Why Steve Jobs idolized Noyce - The Christian Science Monitor', 'Widow speaks about Bob Noyce, telling the human side of the mayor of Silicon Valley (video) - VentureBeat', 'Jensen Huang gets chip industry’s highest honor 28 years after founding Nvidia - VentureBeat', 'Quotes by Intel Co-founder, Gordon Moore to live by - Techstory', 'UCLA Engineering Professor Jason Cong Receives 2022 IEEE Noyce Medal - UCLA Samueli School of Engineering Newsroom', '5 Key Intel Shareholders (INTC) - Tech Stocks - Investopedia', 'Intel Co-Founder’s Silicon Valley Estate Lists for $21.8 Million - Mansion Global', \"Intel gut-punches Apple by hiring engineer that 'led transition' from Intel-based Macs to Apple Silicon - PC Gamer\", 'Remembering 1968: The birth of Intel - CBS News', 'Noyce and the Integrated Circuit’s Invention - The Wall Street Journal', \"How computers got amazing: Moore's Law at 50 - USA TODAY\", \"Intel's chip recovery plan could restore US manufacturing prowess - CNET\", 'The Roots of Silicon Valley, Part 2: Planar Technology, The Fairchildren - Eetasia.com', 'Robert Noyce and the Inventors of Personal Computing - PCMag', 'Robert Noyce, The Father of Silicon Valley - Business Insider', \"Speaker highlights Intel's 40-year impact - Rio Rancho Observer\", 'Photos: Intel co-founder’s Los Altos mansion selling for $21.8 million - The Mercury News', 'Intel Stock Forecast and Semiconductor Predictions - Investment U', \"Google doodle celebrates Robert Noyce; Intel co-founder and 'Mayor of Silicon Valley' - Engadget\", 'The Tinkerings of Robert Noyce - Esquire', 'Metronome for the modern age - Salon', \"Alumnus Jason Cong's IEEE Robert N. Noyce Medal Represents an Impactful Computing Career Emboldened by the Right Choices - Illinois Computer Science News\", \"Can Intel's 'boy wonder' pull a Steve Jobs? - MarketWatch\", \"New Intel CEO Pat Gelsinger's Top Four Priorities For Employees - CRN\", \"Gelsinger Sets the Stage for Intel's Return to Glory - SDxCentral\", \"Apple's M1 Chip Poses a Threat to Intel and Other Chip Makers - Interesting Engineering\", \"Intel has suspended operations in Russia and calls for 'swift return to peace' - PC Gamer\", 'The Man Who Made the Computer Age Possible - strategy+business Today', 'Tom Wolfe Called Out Silicon Valley’s ‘Bro Culture’ in 1983 - Observer', \"Intel CEO Pat Gelsinger says revising the company's missteps is a 5-year task - PC Gamer\", 'Robert Noyce - The Mayor of Silicon Valley - Techstory', \"Book review: 'The Intel Trinity,' on the men who built Intel, by Michael S. Malone - The Washington Post\", 'Opinion | How Arthur Rock kick-started Silicon Valley - The Washington Post', 'Opinion | Moore’s Law Turns 50 - The New York Times', 'The Deep Intel, AMD & Nvidia Connection That You Never Knew Existed - Wccftech', 'Intel mastermind, Silicon Valley statesman Andy Grove dead at 79 - Reuters', \"Fairchild Semiconductor And The Men Who Helped Invent 'Silicon' Valley - Forbes\", 'TSMC Is Stuck in the Middle of a Global Panic Over Chip Supply - Bloomberg', 'AMERICAN EXPERIENCE: Silicon Valley - KPBS', 'Inside Intel: A Look at the Mega Chip Maker - Investopedia', 'Gordon Moore Is the Nerdy Moses of Silicon Valley - The Daily Beast', 'Intel Legends Moore And Grove: Making It Last - North Country Public Radio', 'The Evolution Of Intel 1969 - 2022 - CCL Online', \"Intel CEO says AMD's CPU dominance is 'over with Alder Lake' - PC Gamer\", 'Intel at 50: A look back, and ahead, for the iconic Silicon Valley giant - The Mercury News', 'JOAN LAPPIN: Advanced Micro Devices vs. Intel - Sarasota Herald-Tribune', 'Summer 2016 - The Quiet Man Behind the Computer Revolution - Philanthropy Roundtable', 'Jensen Huang press Q&A: Nvidia’s plans for the Omniverse, Earth-2, and CPUs - VentureBeat', 'Gordon Moore, Thomas Jefferson Foundation Medal in Global Innovation - UVA Today', \"Book Review: 'The Intel Trinity' by Michael S. Malone - The Wall Street Journal\", \"Intel's new CEO Pat Gelsinger plans US$20 billion expansion for chip giant - The CEO Magazine\", 'Andy Grove, former Intel CEO and personal computing pioneer, dead at 79 - CNN.com', 'Tech Giants Are Fighting Over Falling Helium Supplies - PR Newswire', 'RIP Andy Grove, Who Turned Intel Into a Household Name | Inc.com - Inc.', \"Jobs and Intel's Noyce Forged Early Bond - The Wall Street Journal\", 'Intel at crossroads: Should it split into two companies? - FierceElectronics', 'MIT to name Building 12, home of MIT.nano, in honor of Lisa Su - MIT News', 'Looks Like PBS Made A ‘Silicon Valley’ TV Show That Could Really Be Worth Watching - TechCrunch', 'William Shockley: the failed man manager who inspired Silicon Valley - The Times', 'And Now Let Us Praise, and Consider the Absurd Luck of, Famous Men - The Atlantic', \"The End of Moore's Law? - MIT Technology Review\", 'Andy Grove Intel co-founder no more - The Hans India', 'Intel reportedly offering over $2bn for a competitor to Arm - PC Gamer', \"Let's get together: Intel's 2030 commitments include 'shared' climate and social goals | Greenbiz - GreenBiz\", \"A Rare Mix Created Silicon Valley's Startup Culture - NPR\", 'How the FPGA Came To Be, Part 5 - EE Journal', None, None, None, None, None, None, None, None, None, None, None, None, None, None, None, None, None, None, None, None, None, None, None, None, None, None, None, None, None, None, None, None, None, None, None, None, None, None, None, None, None, None, None, None, None, None, None, None, None, None, None, None, None, None, None, None, None, None, None, None, None, None, None, None, None, None, None, None, None, None, None, None, None, None, None, None, None, None, None, None, None, None, None, None, None, None, None, None, None, None, None, None, None, None, None, None, None, None, None, None, None, None, None, None, None, None, None, None, None, None, None, None, None, None, None, None, None, None, None, None, None, None, None, None, None, None, None, None, None, None, None, None, None, None, None, None, None, None, None, None, None, None, None, None, None, None, None, None, None, None, None, None, None, None, None, None, None, None, None, None, None, None, None, None, None, None, None, None, None, None, None, None, None, None, None, None, None, None, None, None, None, None, None, None, None, None, None, None, None, None, None, None, None, None, None, None, None, None, None, None, None, None, None, None, None, None, None, None, None, None, None, None, None, None, None, None, None, None, None, None, None, None, None, None, None, None, None, None, None, None, None, None, None, None, None, None, None, None, None, None, None, None, None, None, None, None, None, None, None, None, None, None, None, None, None, None, None, None, None, None, None, None, None, None, None, None, None, None, None, None, None, None, None, None, None, None, None, None, None, None, None, None, None, None, None, None, None, None, None, None, None, None, None, None, None, None, None, None, None, None, None, None, None, None, None, None, None, None, None, None, None, None, None, None, None, None, None, None, None, None, None, None, None, None, None, None, None, None, None, None, None, None, None, None, None, None, None, None, None, None, None, None, None, None, None, None, None, None, None, None, None, None, None, None, None, None, None, None, None, None, None, None, None, None, None, None, None, None, None, None, None, None, None, None, None, None, None, None, None, None, None, None, None, None, None, None, None, None, None, None, None, None, None, None, None, None, None, None, None, None]\n"
          ]
        }
      ]
    },
    {
      "cell_type": "code",
      "source": [
        "df_news.count"
      ],
      "metadata": {
        "colab": {
          "base_uri": "https://localhost:8080/"
        },
        "id": "TR9ZHtAx5FJ4",
        "outputId": "cbf3a808-017d-400c-9dc9-1755a2d211e4"
      },
      "execution_count": null,
      "outputs": [
        {
          "output_type": "execute_result",
          "data": {
            "text/plain": [
              "<bound method DataFrame.count of                                                  TITLE\n",
              "0    Happy B'Day Gordon Moore: One Of The Founding ...\n",
              "1                       Holacracy - Electronics Weekly\n",
              "2            Moore's Law Is Dead. Now What? - Built In\n",
              "3    Happy Birthday to Gordon Moore – EEJournal - E...\n",
              "4    MIT titles nanoscience building in honor of AM...\n",
              "..                                                 ...\n",
              "495                                               None\n",
              "496                                               None\n",
              "497                                               None\n",
              "498                                               None\n",
              "499                                               None\n",
              "\n",
              "[500 rows x 1 columns]>"
            ]
          },
          "metadata": {},
          "execution_count": 17
        }
      ]
    },
    {
      "cell_type": "markdown",
      "source": [
        "# Modeling"
      ],
      "metadata": {
        "id": "WA5I3BP6QUVI"
      }
    },
    {
      "cell_type": "markdown",
      "source": [
        "### Sentiment Analysis: NLTK Vader"
      ],
      "metadata": {
        "id": "A5ilDMSTlSV9"
      }
    },
    {
      "cell_type": "code",
      "source": [
        "from nltk.sentiment import SentimentIntensityAnalyzer\n",
        "sia = SentimentIntensityAnalyzer()"
      ],
      "metadata": {
        "id": "XlddeepKT2Ou",
        "colab": {
          "base_uri": "https://localhost:8080/"
        },
        "outputId": "51742929-40a6-4699-c5e2-7f29a4df2956"
      },
      "execution_count": null,
      "outputs": [
        {
          "output_type": "stream",
          "name": "stderr",
          "text": [
            "/usr/local/lib/python3.7/dist-packages/nltk/twitter/__init__.py:20: UserWarning: The twython library has not been installed. Some functionality from the twitter package will not be available.\n",
            "  warnings.warn(\"The twython library has not been installed. \"\n"
          ]
        }
      ]
    },
    {
      "cell_type": "code",
      "source": [
        "def find_sentiment_score(post):\n",
        "    return sia.polarity_scores(post)[\"compound\"] "
      ],
      "metadata": {
        "id": "g2mmn7_nlY0B"
      },
      "execution_count": null,
      "outputs": []
    },
    {
      "cell_type": "code",
      "source": [
        "def find_sentiment(post):\n",
        "    if sia.polarity_scores(post)[\"compound\"] > 0:\n",
        "        return \"Positive\"\n",
        "    elif sia.polarity_scores(post)[\"compound\"] < 0:\n",
        "        return \"Negative\"\n",
        "    else:\n",
        "        return \"Neutral\" "
      ],
      "metadata": {
        "id": "0FsU42QCmmhP"
      },
      "execution_count": null,
      "outputs": []
    },
    {
      "cell_type": "code",
      "source": [
        "sentiments = [None]*500\n",
        "sentiment_score = [None]*500\n",
        "i = 0\n",
        "for post in df_news['TITLE']:\n",
        "  if post!=None:\n",
        "    sentiments[i] = find_sentiment(post)\n",
        "    sentiment_score[i] = find_sentiment_score(post)\n",
        "    i+=1\n",
        "  else:\n",
        "    sentiments[i] = None\n",
        "    sentiment_score[i] = None\n",
        "    i+=1\n",
        "\n",
        "df_news['SENTIMENT'] = sentiments\n",
        "df_news['SCORE'] = sentiment_score"
      ],
      "metadata": {
        "id": "bapMMz70qW1o"
      },
      "execution_count": null,
      "outputs": []
    },
    {
      "cell_type": "code",
      "source": [
        "df_news.head()"
      ],
      "metadata": {
        "colab": {
          "base_uri": "https://localhost:8080/",
          "height": 206
        },
        "id": "CePvlKbEqjsg",
        "outputId": "70ed901b-bfa8-43d0-f1fa-a48cc89afb01"
      },
      "execution_count": null,
      "outputs": [
        {
          "output_type": "execute_result",
          "data": {
            "text/plain": [
              "                                               TITLE SENTIMENT   SCORE\n",
              "0  Happy B'Day Gordon Moore: One Of The Founding ...  Positive  0.5719\n",
              "1                     Holacracy - Electronics Weekly   Neutral  0.0000\n",
              "2          Moore's Law Is Dead. Now What? - Built In  Negative -0.6486\n",
              "3  Happy Birthday to Gordon Moore – EEJournal - E...  Positive  0.5719\n",
              "4  MIT titles nanoscience building in honor of AM...  Positive  0.4939"
            ],
            "text/html": [
              "\n",
              "  <div id=\"df-b2a43e4a-9ed7-4d42-a117-1847890e58cd\">\n",
              "    <div class=\"colab-df-container\">\n",
              "      <div>\n",
              "<style scoped>\n",
              "    .dataframe tbody tr th:only-of-type {\n",
              "        vertical-align: middle;\n",
              "    }\n",
              "\n",
              "    .dataframe tbody tr th {\n",
              "        vertical-align: top;\n",
              "    }\n",
              "\n",
              "    .dataframe thead th {\n",
              "        text-align: right;\n",
              "    }\n",
              "</style>\n",
              "<table border=\"1\" class=\"dataframe\">\n",
              "  <thead>\n",
              "    <tr style=\"text-align: right;\">\n",
              "      <th></th>\n",
              "      <th>TITLE</th>\n",
              "      <th>SENTIMENT</th>\n",
              "      <th>SCORE</th>\n",
              "    </tr>\n",
              "  </thead>\n",
              "  <tbody>\n",
              "    <tr>\n",
              "      <th>0</th>\n",
              "      <td>Happy B'Day Gordon Moore: One Of The Founding ...</td>\n",
              "      <td>Positive</td>\n",
              "      <td>0.5719</td>\n",
              "    </tr>\n",
              "    <tr>\n",
              "      <th>1</th>\n",
              "      <td>Holacracy - Electronics Weekly</td>\n",
              "      <td>Neutral</td>\n",
              "      <td>0.0000</td>\n",
              "    </tr>\n",
              "    <tr>\n",
              "      <th>2</th>\n",
              "      <td>Moore's Law Is Dead. Now What? - Built In</td>\n",
              "      <td>Negative</td>\n",
              "      <td>-0.6486</td>\n",
              "    </tr>\n",
              "    <tr>\n",
              "      <th>3</th>\n",
              "      <td>Happy Birthday to Gordon Moore – EEJournal - E...</td>\n",
              "      <td>Positive</td>\n",
              "      <td>0.5719</td>\n",
              "    </tr>\n",
              "    <tr>\n",
              "      <th>4</th>\n",
              "      <td>MIT titles nanoscience building in honor of AM...</td>\n",
              "      <td>Positive</td>\n",
              "      <td>0.4939</td>\n",
              "    </tr>\n",
              "  </tbody>\n",
              "</table>\n",
              "</div>\n",
              "      <button class=\"colab-df-convert\" onclick=\"convertToInteractive('df-b2a43e4a-9ed7-4d42-a117-1847890e58cd')\"\n",
              "              title=\"Convert this dataframe to an interactive table.\"\n",
              "              style=\"display:none;\">\n",
              "        \n",
              "  <svg xmlns=\"http://www.w3.org/2000/svg\" height=\"24px\"viewBox=\"0 0 24 24\"\n",
              "       width=\"24px\">\n",
              "    <path d=\"M0 0h24v24H0V0z\" fill=\"none\"/>\n",
              "    <path d=\"M18.56 5.44l.94 2.06.94-2.06 2.06-.94-2.06-.94-.94-2.06-.94 2.06-2.06.94zm-11 1L8.5 8.5l.94-2.06 2.06-.94-2.06-.94L8.5 2.5l-.94 2.06-2.06.94zm10 10l.94 2.06.94-2.06 2.06-.94-2.06-.94-.94-2.06-.94 2.06-2.06.94z\"/><path d=\"M17.41 7.96l-1.37-1.37c-.4-.4-.92-.59-1.43-.59-.52 0-1.04.2-1.43.59L10.3 9.45l-7.72 7.72c-.78.78-.78 2.05 0 2.83L4 21.41c.39.39.9.59 1.41.59.51 0 1.02-.2 1.41-.59l7.78-7.78 2.81-2.81c.8-.78.8-2.07 0-2.86zM5.41 20L4 18.59l7.72-7.72 1.47 1.35L5.41 20z\"/>\n",
              "  </svg>\n",
              "      </button>\n",
              "      \n",
              "  <style>\n",
              "    .colab-df-container {\n",
              "      display:flex;\n",
              "      flex-wrap:wrap;\n",
              "      gap: 12px;\n",
              "    }\n",
              "\n",
              "    .colab-df-convert {\n",
              "      background-color: #E8F0FE;\n",
              "      border: none;\n",
              "      border-radius: 50%;\n",
              "      cursor: pointer;\n",
              "      display: none;\n",
              "      fill: #1967D2;\n",
              "      height: 32px;\n",
              "      padding: 0 0 0 0;\n",
              "      width: 32px;\n",
              "    }\n",
              "\n",
              "    .colab-df-convert:hover {\n",
              "      background-color: #E2EBFA;\n",
              "      box-shadow: 0px 1px 2px rgba(60, 64, 67, 0.3), 0px 1px 3px 1px rgba(60, 64, 67, 0.15);\n",
              "      fill: #174EA6;\n",
              "    }\n",
              "\n",
              "    [theme=dark] .colab-df-convert {\n",
              "      background-color: #3B4455;\n",
              "      fill: #D2E3FC;\n",
              "    }\n",
              "\n",
              "    [theme=dark] .colab-df-convert:hover {\n",
              "      background-color: #434B5C;\n",
              "      box-shadow: 0px 1px 3px 1px rgba(0, 0, 0, 0.15);\n",
              "      filter: drop-shadow(0px 1px 2px rgba(0, 0, 0, 0.3));\n",
              "      fill: #FFFFFF;\n",
              "    }\n",
              "  </style>\n",
              "\n",
              "      <script>\n",
              "        const buttonEl =\n",
              "          document.querySelector('#df-b2a43e4a-9ed7-4d42-a117-1847890e58cd button.colab-df-convert');\n",
              "        buttonEl.style.display =\n",
              "          google.colab.kernel.accessAllowed ? 'block' : 'none';\n",
              "\n",
              "        async function convertToInteractive(key) {\n",
              "          const element = document.querySelector('#df-b2a43e4a-9ed7-4d42-a117-1847890e58cd');\n",
              "          const dataTable =\n",
              "            await google.colab.kernel.invokeFunction('convertToInteractive',\n",
              "                                                     [key], {});\n",
              "          if (!dataTable) return;\n",
              "\n",
              "          const docLinkHtml = 'Like what you see? Visit the ' +\n",
              "            '<a target=\"_blank\" href=https://colab.research.google.com/notebooks/data_table.ipynb>data table notebook</a>'\n",
              "            + ' to learn more about interactive tables.';\n",
              "          element.innerHTML = '';\n",
              "          dataTable['output_type'] = 'display_data';\n",
              "          await google.colab.output.renderOutput(dataTable, element);\n",
              "          const docLink = document.createElement('div');\n",
              "          docLink.innerHTML = docLinkHtml;\n",
              "          element.appendChild(docLink);\n",
              "        }\n",
              "      </script>\n",
              "    </div>\n",
              "  </div>\n",
              "  "
            ]
          },
          "metadata": {},
          "execution_count": 22
        }
      ]
    },
    {
      "cell_type": "code",
      "source": [
        "max_val = df_news['SCORE'].max()\n",
        "min_val = df_news['SCORE'].min()\n",
        "max_title = (df_news.loc[df_news.SCORE == max_val, 'TITLE'])\n",
        "min_title = (df_news.loc[df_news.SCORE == min_val, 'TITLE'])\n",
        "overall_sentiment = df_news['SCORE'].mean()"
      ],
      "metadata": {
        "id": "IFyYgs9Z0NND"
      },
      "execution_count": null,
      "outputs": []
    },
    {
      "cell_type": "markdown",
      "source": [
        "# Graph"
      ],
      "metadata": {
        "id": "7aUvvzcuzaRq"
      }
    },
    {
      "cell_type": "code",
      "source": [
        "!pip install faker"
      ],
      "metadata": {
        "colab": {
          "base_uri": "https://localhost:8080/"
        },
        "id": "KB7E3h03Am6d",
        "outputId": "cfa6cb01-a111-41f6-b766-e971a7c6dd2d"
      },
      "execution_count": null,
      "outputs": [
        {
          "output_type": "stream",
          "name": "stdout",
          "text": [
            "Collecting faker\n",
            "  Downloading Faker-13.11.1-py3-none-any.whl (1.5 MB)\n",
            "\u001b[?25l\r\u001b[K     |▏                               | 10 kB 28.8 MB/s eta 0:00:01\r\u001b[K     |▍                               | 20 kB 28.3 MB/s eta 0:00:01\r\u001b[K     |▋                               | 30 kB 12.5 MB/s eta 0:00:01\r\u001b[K     |▉                               | 40 kB 6.1 MB/s eta 0:00:01\r\u001b[K     |█                               | 51 kB 5.5 MB/s eta 0:00:01\r\u001b[K     |█▎                              | 61 kB 6.5 MB/s eta 0:00:01\r\u001b[K     |█▌                              | 71 kB 7.0 MB/s eta 0:00:01\r\u001b[K     |█▊                              | 81 kB 5.7 MB/s eta 0:00:01\r\u001b[K     |██                              | 92 kB 6.3 MB/s eta 0:00:01\r\u001b[K     |██▏                             | 102 kB 6.9 MB/s eta 0:00:01\r\u001b[K     |██▍                             | 112 kB 6.9 MB/s eta 0:00:01\r\u001b[K     |██▋                             | 122 kB 6.9 MB/s eta 0:00:01\r\u001b[K     |██▊                             | 133 kB 6.9 MB/s eta 0:00:01\r\u001b[K     |███                             | 143 kB 6.9 MB/s eta 0:00:01\r\u001b[K     |███▏                            | 153 kB 6.9 MB/s eta 0:00:01\r\u001b[K     |███▍                            | 163 kB 6.9 MB/s eta 0:00:01\r\u001b[K     |███▋                            | 174 kB 6.9 MB/s eta 0:00:01\r\u001b[K     |███▉                            | 184 kB 6.9 MB/s eta 0:00:01\r\u001b[K     |████                            | 194 kB 6.9 MB/s eta 0:00:01\r\u001b[K     |████▎                           | 204 kB 6.9 MB/s eta 0:00:01\r\u001b[K     |████▌                           | 215 kB 6.9 MB/s eta 0:00:01\r\u001b[K     |████▊                           | 225 kB 6.9 MB/s eta 0:00:01\r\u001b[K     |█████                           | 235 kB 6.9 MB/s eta 0:00:01\r\u001b[K     |█████▏                          | 245 kB 6.9 MB/s eta 0:00:01\r\u001b[K     |█████▎                          | 256 kB 6.9 MB/s eta 0:00:01\r\u001b[K     |█████▌                          | 266 kB 6.9 MB/s eta 0:00:01\r\u001b[K     |█████▊                          | 276 kB 6.9 MB/s eta 0:00:01\r\u001b[K     |██████                          | 286 kB 6.9 MB/s eta 0:00:01\r\u001b[K     |██████▏                         | 296 kB 6.9 MB/s eta 0:00:01\r\u001b[K     |██████▍                         | 307 kB 6.9 MB/s eta 0:00:01\r\u001b[K     |██████▋                         | 317 kB 6.9 MB/s eta 0:00:01\r\u001b[K     |██████▉                         | 327 kB 6.9 MB/s eta 0:00:01\r\u001b[K     |███████                         | 337 kB 6.9 MB/s eta 0:00:01\r\u001b[K     |███████▎                        | 348 kB 6.9 MB/s eta 0:00:01\r\u001b[K     |███████▌                        | 358 kB 6.9 MB/s eta 0:00:01\r\u001b[K     |███████▊                        | 368 kB 6.9 MB/s eta 0:00:01\r\u001b[K     |███████▉                        | 378 kB 6.9 MB/s eta 0:00:01\r\u001b[K     |████████                        | 389 kB 6.9 MB/s eta 0:00:01\r\u001b[K     |████████▎                       | 399 kB 6.9 MB/s eta 0:00:01\r\u001b[K     |████████▌                       | 409 kB 6.9 MB/s eta 0:00:01\r\u001b[K     |████████▊                       | 419 kB 6.9 MB/s eta 0:00:01\r\u001b[K     |█████████                       | 430 kB 6.9 MB/s eta 0:00:01\r\u001b[K     |█████████▏                      | 440 kB 6.9 MB/s eta 0:00:01\r\u001b[K     |█████████▍                      | 450 kB 6.9 MB/s eta 0:00:01\r\u001b[K     |█████████▋                      | 460 kB 6.9 MB/s eta 0:00:01\r\u001b[K     |█████████▉                      | 471 kB 6.9 MB/s eta 0:00:01\r\u001b[K     |██████████                      | 481 kB 6.9 MB/s eta 0:00:01\r\u001b[K     |██████████▎                     | 491 kB 6.9 MB/s eta 0:00:01\r\u001b[K     |██████████▍                     | 501 kB 6.9 MB/s eta 0:00:01\r\u001b[K     |██████████▋                     | 512 kB 6.9 MB/s eta 0:00:01\r\u001b[K     |██████████▉                     | 522 kB 6.9 MB/s eta 0:00:01\r\u001b[K     |███████████                     | 532 kB 6.9 MB/s eta 0:00:01\r\u001b[K     |███████████▎                    | 542 kB 6.9 MB/s eta 0:00:01\r\u001b[K     |███████████▌                    | 552 kB 6.9 MB/s eta 0:00:01\r\u001b[K     |███████████▊                    | 563 kB 6.9 MB/s eta 0:00:01\r\u001b[K     |████████████                    | 573 kB 6.9 MB/s eta 0:00:01\r\u001b[K     |████████████▏                   | 583 kB 6.9 MB/s eta 0:00:01\r\u001b[K     |████████████▍                   | 593 kB 6.9 MB/s eta 0:00:01\r\u001b[K     |████████████▋                   | 604 kB 6.9 MB/s eta 0:00:01\r\u001b[K     |████████████▉                   | 614 kB 6.9 MB/s eta 0:00:01\r\u001b[K     |█████████████                   | 624 kB 6.9 MB/s eta 0:00:01\r\u001b[K     |█████████████▏                  | 634 kB 6.9 MB/s eta 0:00:01\r\u001b[K     |█████████████▍                  | 645 kB 6.9 MB/s eta 0:00:01\r\u001b[K     |█████████████▋                  | 655 kB 6.9 MB/s eta 0:00:01\r\u001b[K     |█████████████▉                  | 665 kB 6.9 MB/s eta 0:00:01\r\u001b[K     |██████████████                  | 675 kB 6.9 MB/s eta 0:00:01\r\u001b[K     |██████████████▎                 | 686 kB 6.9 MB/s eta 0:00:01\r\u001b[K     |██████████████▌                 | 696 kB 6.9 MB/s eta 0:00:01\r\u001b[K     |██████████████▊                 | 706 kB 6.9 MB/s eta 0:00:01\r\u001b[K     |███████████████                 | 716 kB 6.9 MB/s eta 0:00:01\r\u001b[K     |███████████████▏                | 727 kB 6.9 MB/s eta 0:00:01\r\u001b[K     |███████████████▍                | 737 kB 6.9 MB/s eta 0:00:01\r\u001b[K     |███████████████▌                | 747 kB 6.9 MB/s eta 0:00:01\r\u001b[K     |███████████████▊                | 757 kB 6.9 MB/s eta 0:00:01\r\u001b[K     |████████████████                | 768 kB 6.9 MB/s eta 0:00:01\r\u001b[K     |████████████████▏               | 778 kB 6.9 MB/s eta 0:00:01\r\u001b[K     |████████████████▍               | 788 kB 6.9 MB/s eta 0:00:01\r\u001b[K     |████████████████▋               | 798 kB 6.9 MB/s eta 0:00:01\r\u001b[K     |████████████████▉               | 808 kB 6.9 MB/s eta 0:00:01\r\u001b[K     |█████████████████               | 819 kB 6.9 MB/s eta 0:00:01\r\u001b[K     |█████████████████▎              | 829 kB 6.9 MB/s eta 0:00:01\r\u001b[K     |█████████████████▌              | 839 kB 6.9 MB/s eta 0:00:01\r\u001b[K     |█████████████████▊              | 849 kB 6.9 MB/s eta 0:00:01\r\u001b[K     |██████████████████              | 860 kB 6.9 MB/s eta 0:00:01\r\u001b[K     |██████████████████              | 870 kB 6.9 MB/s eta 0:00:01\r\u001b[K     |██████████████████▎             | 880 kB 6.9 MB/s eta 0:00:01\r\u001b[K     |██████████████████▌             | 890 kB 6.9 MB/s eta 0:00:01\r\u001b[K     |██████████████████▊             | 901 kB 6.9 MB/s eta 0:00:01\r\u001b[K     |███████████████████             | 911 kB 6.9 MB/s eta 0:00:01\r\u001b[K     |███████████████████▏            | 921 kB 6.9 MB/s eta 0:00:01\r\u001b[K     |███████████████████▍            | 931 kB 6.9 MB/s eta 0:00:01\r\u001b[K     |███████████████████▋            | 942 kB 6.9 MB/s eta 0:00:01\r\u001b[K     |███████████████████▉            | 952 kB 6.9 MB/s eta 0:00:01\r\u001b[K     |████████████████████            | 962 kB 6.9 MB/s eta 0:00:01\r\u001b[K     |████████████████████▎           | 972 kB 6.9 MB/s eta 0:00:01\r\u001b[K     |████████████████████▌           | 983 kB 6.9 MB/s eta 0:00:01\r\u001b[K     |████████████████████▋           | 993 kB 6.9 MB/s eta 0:00:01\r\u001b[K     |████████████████████▉           | 1.0 MB 6.9 MB/s eta 0:00:01\r\u001b[K     |█████████████████████           | 1.0 MB 6.9 MB/s eta 0:00:01\r\u001b[K     |█████████████████████▎          | 1.0 MB 6.9 MB/s eta 0:00:01\r\u001b[K     |█████████████████████▌          | 1.0 MB 6.9 MB/s eta 0:00:01\r\u001b[K     |█████████████████████▊          | 1.0 MB 6.9 MB/s eta 0:00:01\r\u001b[K     |██████████████████████          | 1.1 MB 6.9 MB/s eta 0:00:01\r\u001b[K     |██████████████████████▏         | 1.1 MB 6.9 MB/s eta 0:00:01\r\u001b[K     |██████████████████████▍         | 1.1 MB 6.9 MB/s eta 0:00:01\r\u001b[K     |██████████████████████▋         | 1.1 MB 6.9 MB/s eta 0:00:01\r\u001b[K     |██████████████████████▉         | 1.1 MB 6.9 MB/s eta 0:00:01\r\u001b[K     |███████████████████████         | 1.1 MB 6.9 MB/s eta 0:00:01\r\u001b[K     |███████████████████████▏        | 1.1 MB 6.9 MB/s eta 0:00:01\r\u001b[K     |███████████████████████▍        | 1.1 MB 6.9 MB/s eta 0:00:01\r\u001b[K     |███████████████████████▋        | 1.1 MB 6.9 MB/s eta 0:00:01\r\u001b[K     |███████████████████████▉        | 1.1 MB 6.9 MB/s eta 0:00:01\r\u001b[K     |████████████████████████        | 1.2 MB 6.9 MB/s eta 0:00:01\r\u001b[K     |████████████████████████▎       | 1.2 MB 6.9 MB/s eta 0:00:01\r\u001b[K     |████████████████████████▌       | 1.2 MB 6.9 MB/s eta 0:00:01\r\u001b[K     |████████████████████████▊       | 1.2 MB 6.9 MB/s eta 0:00:01\r\u001b[K     |█████████████████████████       | 1.2 MB 6.9 MB/s eta 0:00:01\r\u001b[K     |█████████████████████████▏      | 1.2 MB 6.9 MB/s eta 0:00:01\r\u001b[K     |█████████████████████████▍      | 1.2 MB 6.9 MB/s eta 0:00:01\r\u001b[K     |█████████████████████████▋      | 1.2 MB 6.9 MB/s eta 0:00:01\r\u001b[K     |█████████████████████████▊      | 1.2 MB 6.9 MB/s eta 0:00:01\r\u001b[K     |██████████████████████████      | 1.2 MB 6.9 MB/s eta 0:00:01\r\u001b[K     |██████████████████████████▏     | 1.3 MB 6.9 MB/s eta 0:00:01\r\u001b[K     |██████████████████████████▍     | 1.3 MB 6.9 MB/s eta 0:00:01\r\u001b[K     |██████████████████████████▋     | 1.3 MB 6.9 MB/s eta 0:00:01\r\u001b[K     |██████████████████████████▉     | 1.3 MB 6.9 MB/s eta 0:00:01\r\u001b[K     |███████████████████████████     | 1.3 MB 6.9 MB/s eta 0:00:01\r\u001b[K     |███████████████████████████▎    | 1.3 MB 6.9 MB/s eta 0:00:01\r\u001b[K     |███████████████████████████▌    | 1.3 MB 6.9 MB/s eta 0:00:01\r\u001b[K     |███████████████████████████▊    | 1.3 MB 6.9 MB/s eta 0:00:01\r\u001b[K     |████████████████████████████    | 1.3 MB 6.9 MB/s eta 0:00:01\r\u001b[K     |████████████████████████████▏   | 1.4 MB 6.9 MB/s eta 0:00:01\r\u001b[K     |████████████████████████████▎   | 1.4 MB 6.9 MB/s eta 0:00:01\r\u001b[K     |████████████████████████████▌   | 1.4 MB 6.9 MB/s eta 0:00:01\r\u001b[K     |████████████████████████████▊   | 1.4 MB 6.9 MB/s eta 0:00:01\r\u001b[K     |█████████████████████████████   | 1.4 MB 6.9 MB/s eta 0:00:01\r\u001b[K     |█████████████████████████████▏  | 1.4 MB 6.9 MB/s eta 0:00:01\r\u001b[K     |█████████████████████████████▍  | 1.4 MB 6.9 MB/s eta 0:00:01\r\u001b[K     |█████████████████████████████▋  | 1.4 MB 6.9 MB/s eta 0:00:01\r\u001b[K     |█████████████████████████████▉  | 1.4 MB 6.9 MB/s eta 0:00:01\r\u001b[K     |██████████████████████████████  | 1.4 MB 6.9 MB/s eta 0:00:01\r\u001b[K     |██████████████████████████████▎ | 1.5 MB 6.9 MB/s eta 0:00:01\r\u001b[K     |██████████████████████████████▌ | 1.5 MB 6.9 MB/s eta 0:00:01\r\u001b[K     |██████████████████████████████▊ | 1.5 MB 6.9 MB/s eta 0:00:01\r\u001b[K     |██████████████████████████████▉ | 1.5 MB 6.9 MB/s eta 0:00:01\r\u001b[K     |███████████████████████████████ | 1.5 MB 6.9 MB/s eta 0:00:01\r\u001b[K     |███████████████████████████████▎| 1.5 MB 6.9 MB/s eta 0:00:01\r\u001b[K     |███████████████████████████████▌| 1.5 MB 6.9 MB/s eta 0:00:01\r\u001b[K     |███████████████████████████████▊| 1.5 MB 6.9 MB/s eta 0:00:01\r\u001b[K     |████████████████████████████████| 1.5 MB 6.9 MB/s eta 0:00:01\r\u001b[K     |████████████████████████████████| 1.5 MB 6.9 MB/s \n",
            "\u001b[?25hRequirement already satisfied: typing-extensions>=3.10.0.2 in /usr/local/lib/python3.7/dist-packages (from faker) (4.2.0)\n",
            "Requirement already satisfied: python-dateutil>=2.4 in /usr/local/lib/python3.7/dist-packages (from faker) (2.8.2)\n",
            "Requirement already satisfied: six>=1.5 in /usr/local/lib/python3.7/dist-packages (from python-dateutil>=2.4->faker) (1.15.0)\n",
            "Installing collected packages: faker\n",
            "Successfully installed faker-13.11.1\n"
          ]
        }
      ]
    },
    {
      "cell_type": "code",
      "source": [
        "!apt install libgraphviz-dev\n",
        "!pip install pygraphviz"
      ],
      "metadata": {
        "colab": {
          "base_uri": "https://localhost:8080/"
        },
        "id": "b3jjZikbE1xp",
        "outputId": "3fab4884-5609-4a3c-b412-ce8a22dca800"
      },
      "execution_count": null,
      "outputs": [
        {
          "output_type": "stream",
          "name": "stdout",
          "text": [
            "Reading package lists... Done\n",
            "Building dependency tree       \n",
            "Reading state information... Done\n",
            "The following package was automatically installed and is no longer required:\n",
            "  libnvidia-common-460\n",
            "Use 'apt autoremove' to remove it.\n",
            "The following additional packages will be installed:\n",
            "  libgail-common libgail18 libgtk2.0-0 libgtk2.0-bin libgtk2.0-common\n",
            "  libgvc6-plugins-gtk libxdot4\n",
            "Suggested packages:\n",
            "  gvfs\n",
            "The following NEW packages will be installed:\n",
            "  libgail-common libgail18 libgraphviz-dev libgtk2.0-0 libgtk2.0-bin\n",
            "  libgtk2.0-common libgvc6-plugins-gtk libxdot4\n",
            "0 upgraded, 8 newly installed, 0 to remove and 42 not upgraded.\n",
            "Need to get 2,120 kB of archives.\n",
            "After this operation, 7,128 kB of additional disk space will be used.\n",
            "Get:1 http://archive.ubuntu.com/ubuntu bionic/main amd64 libgtk2.0-common all 2.24.32-1ubuntu1 [125 kB]\n",
            "Get:2 http://archive.ubuntu.com/ubuntu bionic/main amd64 libgtk2.0-0 amd64 2.24.32-1ubuntu1 [1,769 kB]\n",
            "Get:3 http://archive.ubuntu.com/ubuntu bionic/main amd64 libgail18 amd64 2.24.32-1ubuntu1 [14.2 kB]\n",
            "Get:4 http://archive.ubuntu.com/ubuntu bionic/main amd64 libgail-common amd64 2.24.32-1ubuntu1 [112 kB]\n",
            "Get:5 http://archive.ubuntu.com/ubuntu bionic/universe amd64 libxdot4 amd64 2.40.1-2 [15.7 kB]\n",
            "Get:6 http://archive.ubuntu.com/ubuntu bionic/universe amd64 libgvc6-plugins-gtk amd64 2.40.1-2 [18.2 kB]\n",
            "Get:7 http://archive.ubuntu.com/ubuntu bionic/universe amd64 libgraphviz-dev amd64 2.40.1-2 [57.3 kB]\n",
            "Get:8 http://archive.ubuntu.com/ubuntu bionic/main amd64 libgtk2.0-bin amd64 2.24.32-1ubuntu1 [7,536 B]\n",
            "Fetched 2,120 kB in 2s (1,383 kB/s)\n",
            "Selecting previously unselected package libgtk2.0-common.\n",
            "(Reading database ... 155629 files and directories currently installed.)\n",
            "Preparing to unpack .../0-libgtk2.0-common_2.24.32-1ubuntu1_all.deb ...\n",
            "Unpacking libgtk2.0-common (2.24.32-1ubuntu1) ...\n",
            "Selecting previously unselected package libgtk2.0-0:amd64.\n",
            "Preparing to unpack .../1-libgtk2.0-0_2.24.32-1ubuntu1_amd64.deb ...\n",
            "Unpacking libgtk2.0-0:amd64 (2.24.32-1ubuntu1) ...\n",
            "Selecting previously unselected package libgail18:amd64.\n",
            "Preparing to unpack .../2-libgail18_2.24.32-1ubuntu1_amd64.deb ...\n",
            "Unpacking libgail18:amd64 (2.24.32-1ubuntu1) ...\n",
            "Selecting previously unselected package libgail-common:amd64.\n",
            "Preparing to unpack .../3-libgail-common_2.24.32-1ubuntu1_amd64.deb ...\n",
            "Unpacking libgail-common:amd64 (2.24.32-1ubuntu1) ...\n",
            "Selecting previously unselected package libxdot4.\n",
            "Preparing to unpack .../4-libxdot4_2.40.1-2_amd64.deb ...\n",
            "Unpacking libxdot4 (2.40.1-2) ...\n",
            "Selecting previously unselected package libgvc6-plugins-gtk.\n",
            "Preparing to unpack .../5-libgvc6-plugins-gtk_2.40.1-2_amd64.deb ...\n",
            "Unpacking libgvc6-plugins-gtk (2.40.1-2) ...\n",
            "Selecting previously unselected package libgraphviz-dev.\n",
            "Preparing to unpack .../6-libgraphviz-dev_2.40.1-2_amd64.deb ...\n",
            "Unpacking libgraphviz-dev (2.40.1-2) ...\n",
            "Selecting previously unselected package libgtk2.0-bin.\n",
            "Preparing to unpack .../7-libgtk2.0-bin_2.24.32-1ubuntu1_amd64.deb ...\n",
            "Unpacking libgtk2.0-bin (2.24.32-1ubuntu1) ...\n",
            "Setting up libgtk2.0-common (2.24.32-1ubuntu1) ...\n",
            "Setting up libxdot4 (2.40.1-2) ...\n",
            "Setting up libgtk2.0-0:amd64 (2.24.32-1ubuntu1) ...\n",
            "Setting up libgail18:amd64 (2.24.32-1ubuntu1) ...\n",
            "Setting up libgail-common:amd64 (2.24.32-1ubuntu1) ...\n",
            "Setting up libgvc6-plugins-gtk (2.40.1-2) ...\n",
            "Setting up libgraphviz-dev (2.40.1-2) ...\n",
            "Setting up libgtk2.0-bin (2.24.32-1ubuntu1) ...\n",
            "Processing triggers for man-db (2.8.3-2ubuntu0.1) ...\n",
            "Processing triggers for libc-bin (2.27-3ubuntu1.3) ...\n",
            "/sbin/ldconfig.real: /usr/local/lib/python3.7/dist-packages/ideep4py/lib/libmkldnn.so.0 is not a symbolic link\n",
            "\n",
            "Collecting pygraphviz\n",
            "  Using cached pygraphviz-1.7.zip (118 kB)\n",
            "Building wheels for collected packages: pygraphviz\n",
            "  Building wheel for pygraphviz (setup.py) ... \u001b[?25l\u001b[?25hdone\n",
            "  Created wheel for pygraphviz: filename=pygraphviz-1.7-cp37-cp37m-linux_x86_64.whl size=165759 sha256=5ce3b75377cbed4ffa6c6e9007916bfcaa9499bba9fe703df72d18baea4fecdb\n",
            "  Stored in directory: /root/.cache/pip/wheels/8c/bc/0c/ac35392b72556e75107ff610cb31b313e8471918a6d280e34c\n",
            "Successfully built pygraphviz\n",
            "Installing collected packages: pygraphviz\n",
            "Successfully installed pygraphviz-1.7\n"
          ]
        }
      ]
    },
    {
      "cell_type": "code",
      "source": [
        "import networkx as nx\n",
        "import matplotlib.pyplot as plt\n",
        "from faker import Faker\n",
        "faker = Faker()\n",
        "%matplotlib inline\n"
      ],
      "metadata": {
        "id": "T-qmpnHF38oN"
      },
      "execution_count": null,
      "outputs": []
    },
    {
      "cell_type": "code",
      "source": [
        "graph_df = df_news[:20]\n",
        "graph_df.head()"
      ],
      "metadata": {
        "colab": {
          "base_uri": "https://localhost:8080/",
          "height": 206
        },
        "id": "gpwLeECLA2Xk",
        "outputId": "7a9e6524-c4fe-4b20-afe4-2435ba079f12"
      },
      "execution_count": 66,
      "outputs": [
        {
          "output_type": "execute_result",
          "data": {
            "text/plain": [
              "                                               TITLE SENTIMENT   SCORE\n",
              "0  Happy B'Day Gordon Moore: One Of The Founding ...  Positive  0.5719\n",
              "1                     Holacracy - Electronics Weekly   Neutral  0.0000\n",
              "2          Moore's Law Is Dead. Now What? - Built In  Negative -0.6486\n",
              "3  Happy Birthday to Gordon Moore – EEJournal - E...  Positive  0.5719\n",
              "4  MIT titles nanoscience building in honor of AM...  Positive  0.4939"
            ],
            "text/html": [
              "\n",
              "  <div id=\"df-29678baf-9b94-4d24-a6a0-1dd743f0ffcd\">\n",
              "    <div class=\"colab-df-container\">\n",
              "      <div>\n",
              "<style scoped>\n",
              "    .dataframe tbody tr th:only-of-type {\n",
              "        vertical-align: middle;\n",
              "    }\n",
              "\n",
              "    .dataframe tbody tr th {\n",
              "        vertical-align: top;\n",
              "    }\n",
              "\n",
              "    .dataframe thead th {\n",
              "        text-align: right;\n",
              "    }\n",
              "</style>\n",
              "<table border=\"1\" class=\"dataframe\">\n",
              "  <thead>\n",
              "    <tr style=\"text-align: right;\">\n",
              "      <th></th>\n",
              "      <th>TITLE</th>\n",
              "      <th>SENTIMENT</th>\n",
              "      <th>SCORE</th>\n",
              "    </tr>\n",
              "  </thead>\n",
              "  <tbody>\n",
              "    <tr>\n",
              "      <th>0</th>\n",
              "      <td>Happy B'Day Gordon Moore: One Of The Founding ...</td>\n",
              "      <td>Positive</td>\n",
              "      <td>0.5719</td>\n",
              "    </tr>\n",
              "    <tr>\n",
              "      <th>1</th>\n",
              "      <td>Holacracy - Electronics Weekly</td>\n",
              "      <td>Neutral</td>\n",
              "      <td>0.0000</td>\n",
              "    </tr>\n",
              "    <tr>\n",
              "      <th>2</th>\n",
              "      <td>Moore's Law Is Dead. Now What? - Built In</td>\n",
              "      <td>Negative</td>\n",
              "      <td>-0.6486</td>\n",
              "    </tr>\n",
              "    <tr>\n",
              "      <th>3</th>\n",
              "      <td>Happy Birthday to Gordon Moore – EEJournal - E...</td>\n",
              "      <td>Positive</td>\n",
              "      <td>0.5719</td>\n",
              "    </tr>\n",
              "    <tr>\n",
              "      <th>4</th>\n",
              "      <td>MIT titles nanoscience building in honor of AM...</td>\n",
              "      <td>Positive</td>\n",
              "      <td>0.4939</td>\n",
              "    </tr>\n",
              "  </tbody>\n",
              "</table>\n",
              "</div>\n",
              "      <button class=\"colab-df-convert\" onclick=\"convertToInteractive('df-29678baf-9b94-4d24-a6a0-1dd743f0ffcd')\"\n",
              "              title=\"Convert this dataframe to an interactive table.\"\n",
              "              style=\"display:none;\">\n",
              "        \n",
              "  <svg xmlns=\"http://www.w3.org/2000/svg\" height=\"24px\"viewBox=\"0 0 24 24\"\n",
              "       width=\"24px\">\n",
              "    <path d=\"M0 0h24v24H0V0z\" fill=\"none\"/>\n",
              "    <path d=\"M18.56 5.44l.94 2.06.94-2.06 2.06-.94-2.06-.94-.94-2.06-.94 2.06-2.06.94zm-11 1L8.5 8.5l.94-2.06 2.06-.94-2.06-.94L8.5 2.5l-.94 2.06-2.06.94zm10 10l.94 2.06.94-2.06 2.06-.94-2.06-.94-.94-2.06-.94 2.06-2.06.94z\"/><path d=\"M17.41 7.96l-1.37-1.37c-.4-.4-.92-.59-1.43-.59-.52 0-1.04.2-1.43.59L10.3 9.45l-7.72 7.72c-.78.78-.78 2.05 0 2.83L4 21.41c.39.39.9.59 1.41.59.51 0 1.02-.2 1.41-.59l7.78-7.78 2.81-2.81c.8-.78.8-2.07 0-2.86zM5.41 20L4 18.59l7.72-7.72 1.47 1.35L5.41 20z\"/>\n",
              "  </svg>\n",
              "      </button>\n",
              "      \n",
              "  <style>\n",
              "    .colab-df-container {\n",
              "      display:flex;\n",
              "      flex-wrap:wrap;\n",
              "      gap: 12px;\n",
              "    }\n",
              "\n",
              "    .colab-df-convert {\n",
              "      background-color: #E8F0FE;\n",
              "      border: none;\n",
              "      border-radius: 50%;\n",
              "      cursor: pointer;\n",
              "      display: none;\n",
              "      fill: #1967D2;\n",
              "      height: 32px;\n",
              "      padding: 0 0 0 0;\n",
              "      width: 32px;\n",
              "    }\n",
              "\n",
              "    .colab-df-convert:hover {\n",
              "      background-color: #E2EBFA;\n",
              "      box-shadow: 0px 1px 2px rgba(60, 64, 67, 0.3), 0px 1px 3px 1px rgba(60, 64, 67, 0.15);\n",
              "      fill: #174EA6;\n",
              "    }\n",
              "\n",
              "    [theme=dark] .colab-df-convert {\n",
              "      background-color: #3B4455;\n",
              "      fill: #D2E3FC;\n",
              "    }\n",
              "\n",
              "    [theme=dark] .colab-df-convert:hover {\n",
              "      background-color: #434B5C;\n",
              "      box-shadow: 0px 1px 3px 1px rgba(0, 0, 0, 0.15);\n",
              "      filter: drop-shadow(0px 1px 2px rgba(0, 0, 0, 0.3));\n",
              "      fill: #FFFFFF;\n",
              "    }\n",
              "  </style>\n",
              "\n",
              "      <script>\n",
              "        const buttonEl =\n",
              "          document.querySelector('#df-29678baf-9b94-4d24-a6a0-1dd743f0ffcd button.colab-df-convert');\n",
              "        buttonEl.style.display =\n",
              "          google.colab.kernel.accessAllowed ? 'block' : 'none';\n",
              "\n",
              "        async function convertToInteractive(key) {\n",
              "          const element = document.querySelector('#df-29678baf-9b94-4d24-a6a0-1dd743f0ffcd');\n",
              "          const dataTable =\n",
              "            await google.colab.kernel.invokeFunction('convertToInteractive',\n",
              "                                                     [key], {});\n",
              "          if (!dataTable) return;\n",
              "\n",
              "          const docLinkHtml = 'Like what you see? Visit the ' +\n",
              "            '<a target=\"_blank\" href=https://colab.research.google.com/notebooks/data_table.ipynb>data table notebook</a>'\n",
              "            + ' to learn more about interactive tables.';\n",
              "          element.innerHTML = '';\n",
              "          dataTable['output_type'] = 'display_data';\n",
              "          await google.colab.output.renderOutput(dataTable, element);\n",
              "          const docLink = document.createElement('div');\n",
              "          docLink.innerHTML = docLinkHtml;\n",
              "          element.appendChild(docLink);\n",
              "        }\n",
              "      </script>\n",
              "    </div>\n",
              "  </div>\n",
              "  "
            ]
          },
          "metadata": {},
          "execution_count": 66
        }
      ]
    },
    {
      "cell_type": "code",
      "source": [
        "import networkx as nx\n",
        "from networkx.drawing.nx_agraph import to_agraph\n",
        "\n",
        "G = nx.Graph()\n",
        "G.add_node(\"Positive\",color='green',style='filled',fillcolor='green')\n",
        "G.add_node(\"Negative\",color='red',style='filled',fillcolor='red')\n",
        "G.add_node(\"Neutral\",color='blue',style='filled',fillcolor='blue')\n",
        "for index, row in graph_df.iterrows():\n",
        "      if row['SENTIMENT'] == 'Positive':\n",
        "        colour = 'g'\n",
        "      if row['SENTIMENT'] == 'Negative':\n",
        "        colour = 'r' \n",
        "      if row['SENTIMENT'] == 'Neutral':\n",
        "        colour = 'b'    \n",
        "      G.add_edge(row['TITLE'],row['SENTIMENT'],color=colour)\n",
        "labels = {}\n",
        "pos = nx.layout.kamada_kawai_layout(G)\n",
        "colors = nx.get_edge_attributes(G,'color').values()\n",
        "nx.draw(G, pos=pos, edge_color=colors, with_labels= True)\n"
      ],
      "metadata": {
        "id": "G8_a0YUe2iL9",
        "colab": {
          "base_uri": "https://localhost:8080/",
          "height": 319
        },
        "outputId": "8daf208a-2609-4c0d-aa2a-16e5d845fcaa"
      },
      "execution_count": 67,
      "outputs": [
        {
          "output_type": "display_data",
          "data": {
            "text/plain": [
              "<Figure size 432x288 with 1 Axes>"
            ],
            "image/png": "[encoded data removed]"
          },
          "metadata": {}
        }
      ]
    },
    {
      "cell_type": "markdown",
      "source": [
        "# OUPUT"
      ],
      "metadata": {
        "id": "D6e9y4t26ReZ"
      }
    },
    {
      "cell_type": "code",
      "source": [
        "# FOR THE OUTPUT FILE:\n",
        "\n",
        "# Company name: company (variable)\n",
        "# Company founders : founders = (df_crunchbase['FOUNDERS'].iloc[index]).to_string(index=False) - founders (variable) - handle null condition\n",
        "# Graph : \n",
        "# Top positive news : max_title\n",
        "# Top negative news: min_title\n",
        "# overall sentiment : overall_sentiment\n",
        "# Investments and acquisition from df_crunchbase\n",
        "\n",
        "# To implement:\n",
        "# Add all the above fields to an output file and generate a file\n",
        "# Add comments to the file"
      ],
      "metadata": {
        "id": "RX8mXFSZzhtu"
      },
      "execution_count": null,
      "outputs": []
    }
  ]
}